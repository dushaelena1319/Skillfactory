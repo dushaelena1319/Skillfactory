{
 "cells": [
  {
   "cell_type": "code",
   "execution_count": 1,
   "id": "e10b4f44",
   "metadata": {},
   "outputs": [],
   "source": [
    "import pandas as pd\n",
    "import matplotlib.pyplot as plt\n",
    "import seaborn as sns\n",
    "import plotly.express as px\n",
    "%matplotlib inline"
   ]
  },
  {
   "cell_type": "code",
   "execution_count": 37,
   "id": "cc49bff1",
   "metadata": {},
   "outputs": [],
   "source": [
    "import plotly\n",
    "import plotly.graph_objs as go\n",
    "from plotly.subplots import make_subplots"
   ]
  },
  {
   "cell_type": "code",
   "execution_count": 4,
   "id": "49bf3b4d",
   "metadata": {},
   "outputs": [
    {
     "data": {
      "text/html": [
       "<div>\n",
       "<style scoped>\n",
       "    .dataframe tbody tr th:only-of-type {\n",
       "        vertical-align: middle;\n",
       "    }\n",
       "\n",
       "    .dataframe tbody tr th {\n",
       "        vertical-align: top;\n",
       "    }\n",
       "\n",
       "    .dataframe thead th {\n",
       "        text-align: right;\n",
       "    }\n",
       "</style>\n",
       "<table border=\"1\" class=\"dataframe\">\n",
       "  <thead>\n",
       "    <tr style=\"text-align: right;\">\n",
       "      <th></th>\n",
       "      <th>RowNumber</th>\n",
       "      <th>CustomerId</th>\n",
       "      <th>Surname</th>\n",
       "      <th>CreditScore</th>\n",
       "      <th>Geography</th>\n",
       "      <th>Gender</th>\n",
       "      <th>Age</th>\n",
       "      <th>Tenure</th>\n",
       "      <th>Balance</th>\n",
       "      <th>NumOfProducts</th>\n",
       "      <th>HasCrCard</th>\n",
       "      <th>IsActiveMember</th>\n",
       "      <th>EstimatedSalary</th>\n",
       "      <th>Exited</th>\n",
       "    </tr>\n",
       "  </thead>\n",
       "  <tbody>\n",
       "    <tr>\n",
       "      <th>0</th>\n",
       "      <td>1</td>\n",
       "      <td>15634602</td>\n",
       "      <td>Hargrave</td>\n",
       "      <td>619</td>\n",
       "      <td>France</td>\n",
       "      <td>Female</td>\n",
       "      <td>42</td>\n",
       "      <td>2</td>\n",
       "      <td>0.00</td>\n",
       "      <td>1</td>\n",
       "      <td>1</td>\n",
       "      <td>1</td>\n",
       "      <td>101348.88</td>\n",
       "      <td>1</td>\n",
       "    </tr>\n",
       "    <tr>\n",
       "      <th>1</th>\n",
       "      <td>2</td>\n",
       "      <td>15647311</td>\n",
       "      <td>Hill</td>\n",
       "      <td>608</td>\n",
       "      <td>Spain</td>\n",
       "      <td>Female</td>\n",
       "      <td>41</td>\n",
       "      <td>1</td>\n",
       "      <td>83807.86</td>\n",
       "      <td>1</td>\n",
       "      <td>0</td>\n",
       "      <td>1</td>\n",
       "      <td>112542.58</td>\n",
       "      <td>0</td>\n",
       "    </tr>\n",
       "    <tr>\n",
       "      <th>2</th>\n",
       "      <td>3</td>\n",
       "      <td>15619304</td>\n",
       "      <td>Onio</td>\n",
       "      <td>502</td>\n",
       "      <td>France</td>\n",
       "      <td>Female</td>\n",
       "      <td>42</td>\n",
       "      <td>8</td>\n",
       "      <td>159660.80</td>\n",
       "      <td>3</td>\n",
       "      <td>1</td>\n",
       "      <td>0</td>\n",
       "      <td>113931.57</td>\n",
       "      <td>1</td>\n",
       "    </tr>\n",
       "    <tr>\n",
       "      <th>3</th>\n",
       "      <td>4</td>\n",
       "      <td>15701354</td>\n",
       "      <td>Boni</td>\n",
       "      <td>699</td>\n",
       "      <td>France</td>\n",
       "      <td>Female</td>\n",
       "      <td>39</td>\n",
       "      <td>1</td>\n",
       "      <td>0.00</td>\n",
       "      <td>2</td>\n",
       "      <td>0</td>\n",
       "      <td>0</td>\n",
       "      <td>93826.63</td>\n",
       "      <td>0</td>\n",
       "    </tr>\n",
       "    <tr>\n",
       "      <th>4</th>\n",
       "      <td>5</td>\n",
       "      <td>15737888</td>\n",
       "      <td>Mitchell</td>\n",
       "      <td>850</td>\n",
       "      <td>Spain</td>\n",
       "      <td>Female</td>\n",
       "      <td>43</td>\n",
       "      <td>2</td>\n",
       "      <td>125510.82</td>\n",
       "      <td>1</td>\n",
       "      <td>1</td>\n",
       "      <td>1</td>\n",
       "      <td>79084.10</td>\n",
       "      <td>0</td>\n",
       "    </tr>\n",
       "  </tbody>\n",
       "</table>\n",
       "</div>"
      ],
      "text/plain": [
       "   RowNumber  CustomerId   Surname  CreditScore Geography  Gender  Age  \\\n",
       "0          1    15634602  Hargrave          619    France  Female   42   \n",
       "1          2    15647311      Hill          608     Spain  Female   41   \n",
       "2          3    15619304      Onio          502    France  Female   42   \n",
       "3          4    15701354      Boni          699    France  Female   39   \n",
       "4          5    15737888  Mitchell          850     Spain  Female   43   \n",
       "\n",
       "   Tenure    Balance  NumOfProducts  HasCrCard  IsActiveMember  \\\n",
       "0       2       0.00              1          1               1   \n",
       "1       1   83807.86              1          0               1   \n",
       "2       8  159660.80              3          1               0   \n",
       "3       1       0.00              2          0               0   \n",
       "4       2  125510.82              1          1               1   \n",
       "\n",
       "   EstimatedSalary  Exited  \n",
       "0        101348.88       1  \n",
       "1        112542.58       0  \n",
       "2        113931.57       1  \n",
       "3         93826.63       0  \n",
       "4         79084.10       0  "
      ]
     },
     "execution_count": 4,
     "metadata": {},
     "output_type": "execute_result"
    }
   ],
   "source": [
    "churn_data = pd.read_csv('churn.csv')\n",
    "churn_data.head(5)"
   ]
  },
  {
   "cell_type": "code",
   "execution_count": 5,
   "id": "1287a93e",
   "metadata": {},
   "outputs": [
    {
     "name": "stdout",
     "output_type": "stream",
     "text": [
      "<class 'pandas.core.frame.DataFrame'>\n",
      "RangeIndex: 10000 entries, 0 to 9999\n",
      "Data columns (total 14 columns):\n",
      " #   Column           Non-Null Count  Dtype  \n",
      "---  ------           --------------  -----  \n",
      " 0   RowNumber        10000 non-null  int64  \n",
      " 1   CustomerId       10000 non-null  int64  \n",
      " 2   Surname          10000 non-null  object \n",
      " 3   CreditScore      10000 non-null  int64  \n",
      " 4   Geography        10000 non-null  object \n",
      " 5   Gender           10000 non-null  object \n",
      " 6   Age              10000 non-null  int64  \n",
      " 7   Tenure           10000 non-null  int64  \n",
      " 8   Balance          10000 non-null  float64\n",
      " 9   NumOfProducts    10000 non-null  int64  \n",
      " 10  HasCrCard        10000 non-null  int64  \n",
      " 11  IsActiveMember   10000 non-null  int64  \n",
      " 12  EstimatedSalary  10000 non-null  float64\n",
      " 13  Exited           10000 non-null  int64  \n",
      "dtypes: float64(2), int64(9), object(3)\n",
      "memory usage: 1.1+ MB\n"
     ]
    }
   ],
   "source": [
    "churn_data.info()"
   ]
  },
  {
   "cell_type": "markdown",
   "id": "f32f0431",
   "metadata": {},
   "source": [
    "1. Удаляем лишний столбец 'RowNumber'\n",
    "2. Приводим столбцы с маленьким количеством уникальных значений к типу данных — category. Преимущества такого подхода:\n",
    "Меньшее использование памяти. Тип category хранит уникальные значения как категории, а не строки, что снижает объём занимаемой памяти.\n",
    "Ускорение операций. Операции по сравнению, сортировке и группировке выполняются быстрее с типом category из-за оптимизированного внутреннего представления данных.\n",
    "Понимание данных. Приведение к category помогает явно обозначить категориальные признаки, что важно для анализа и моделирования."
   ]
  },
  {
   "cell_type": "code",
   "execution_count": 6,
   "id": "41463e13",
   "metadata": {},
   "outputs": [],
   "source": [
    "churn_data = churn_data.drop(['RowNumber'], axis=1) # удаляем лишнюю информацию\n",
    "churn_data['Exited'] = churn_data['Exited'].astype('category') \n",
    "#for col in churn_data.columns: \n",
    "#    if churn_data[col].nunique() < 10: \n",
    "#        churn_data[col] = churn_data[col].astype('category') \n"
   ]
  },
  {
   "cell_type": "code",
   "execution_count": 7,
   "id": "924e50b5",
   "metadata": {},
   "outputs": [],
   "source": [
    "churn_data['Exited'] = churn_data['Exited'].cat.rename_categories({\n",
    "    1 : 'Exited',\n",
    "    0 : 'Loyal'\n",
    "})"
   ]
  },
  {
   "cell_type": "code",
   "execution_count": 8,
   "id": "1075dbe9",
   "metadata": {},
   "outputs": [
    {
     "name": "stdout",
     "output_type": "stream",
     "text": [
      "<class 'pandas.core.frame.DataFrame'>\n",
      "RangeIndex: 10000 entries, 0 to 9999\n",
      "Data columns (total 13 columns):\n",
      " #   Column           Non-Null Count  Dtype   \n",
      "---  ------           --------------  -----   \n",
      " 0   CustomerId       10000 non-null  int64   \n",
      " 1   Surname          10000 non-null  object  \n",
      " 2   CreditScore      10000 non-null  int64   \n",
      " 3   Geography        10000 non-null  object  \n",
      " 4   Gender           10000 non-null  object  \n",
      " 5   Age              10000 non-null  int64   \n",
      " 6   Tenure           10000 non-null  int64   \n",
      " 7   Balance          10000 non-null  float64 \n",
      " 8   NumOfProducts    10000 non-null  int64   \n",
      " 9   HasCrCard        10000 non-null  int64   \n",
      " 10  IsActiveMember   10000 non-null  int64   \n",
      " 11  EstimatedSalary  10000 non-null  float64 \n",
      " 12  Exited           10000 non-null  category\n",
      "dtypes: category(1), float64(2), int64(7), object(3)\n",
      "memory usage: 947.5+ KB\n"
     ]
    }
   ],
   "source": [
    "churn_data.info() # смотрим, что получилось, все прошло успешно."
   ]
  },
  {
   "cell_type": "markdown",
   "id": "c1aadeef",
   "metadata": {},
   "source": [
    "                                                        Задание 9.1\n",
    "Каково соотношение ушедших и лояльных клиентов? Покажите это на графике и дайте комментарий по соотношению."
   ]
  },
  {
   "cell_type": "code",
   "execution_count": 9,
   "id": "bdb0e892",
   "metadata": {},
   "outputs": [
    {
     "data": {
      "text/plain": [
       "Exited\n",
       "Loyal     7963\n",
       "Exited    2037\n",
       "Name: count, dtype: int64"
      ]
     },
     "execution_count": 9,
     "metadata": {},
     "output_type": "execute_result"
    }
   ],
   "source": [
    "churn_data['Exited'].value_counts()"
   ]
  },
  {
   "cell_type": "code",
   "execution_count": 14,
   "id": "69819a15",
   "metadata": {},
   "outputs": [
    {
     "data": {
      "text/plain": [
       "Text(0.5, 1.0, 'Соотношение ушедших и лояльных клиентов')"
      ]
     },
     "execution_count": 14,
     "metadata": {},
     "output_type": "execute_result"
    },
    {
     "data": {
      "image/png": "[encoded data removed]",
      "text/plain": [
       "<Figure size 500x500 with 1 Axes>"
      ]
     },
     "metadata": {},
     "output_type": "display_data"
    }
   ],
   "source": [
    "fig = plt.figure(figsize=(5,5))\n",
    "axes = fig.add_axes([0, 0, 1, 1])\n",
    "axes.pie(\n",
    "    churn_data['Exited'].value_counts(),\n",
    "    labels=['Лояльные клиенты', 'Клиентов ушло'],\n",
    "    autopct='%.1f%%',\n",
    "    labeldistance = 0.2,\n",
    "    \n",
    "    explode = [0.1, 0]\n",
    ");\n",
    "axes.set_title('Соотношение ушедших и лояльных клиентов', fontsize=16)"
   ]
  },
  {
   "cell_type": "markdown",
   "id": "8d1e4bc2",
   "metadata": {},
   "source": [
    "                                                               Задание 9.2. \n",
    "Постройте график, показывающий распределение баланса пользователей, у которых на счету больше 2 500 долларов. Опишите распределение и сделайте выводы."
   ]
  },
  {
   "cell_type": "code",
   "execution_count": 15,
   "id": "3a43f7fd",
   "metadata": {},
   "outputs": [],
   "source": [
    "bal_distribution = churn_data[churn_data['Balance']>2500] # убираем неинтересующие данные"
   ]
  },
  {
   "cell_type": "code",
   "execution_count": 16,
   "id": "7ff988c9",
   "metadata": {},
   "outputs": [
    {
     "data": {
      "image/png": "[encoded data removed]",
      "text/plain": [
       "<Figure size 1500x300 with 1 Axes>"
      ]
     },
     "metadata": {},
     "output_type": "display_data"
    }
   ],
   "source": [
    "fig = plt.figure(figsize=(15, 3))\n",
    "boxplot = sns.boxplot(\n",
    "    data=bal_distribution,\n",
    "    x='Balance',\n",
    "    orient='h',\n",
    "    width=0.8\n",
    ")\n",
    "boxplot.set_title('Распределение баланса клиентов банка');\n",
    "boxplot.set_xlabel('Остаток на счёте в USD');\n",
    "boxplot.grid()\n"
   ]
  },
  {
   "cell_type": "code",
   "execution_count": 17,
   "id": "b51001a4",
   "metadata": {},
   "outputs": [
    {
     "name": "stdout",
     "output_type": "stream",
     "text": [
      "Средний остаток на счёте клиентов: 119827 USD\n",
      "Медиана остатка на счёте клиентов: 119840 USD\n"
     ]
    }
   ],
   "source": [
    "print('Средний остаток на счёте клиентов: {} USD'.format(round(bal_distribution['Balance'].mean()))) # справочно самопроверка\n",
    "print('Медиана остатка на счёте клиентов: {} USD'.format(round(bal_distribution['Balance'].quantile()))) # справочно самопроверка"
   ]
  },
  {
   "cell_type": "markdown",
   "id": "66e2ec6b",
   "metadata": {},
   "source": [
    "Из графика можно сделать вывод, что медиана остатка на счетах клиентов банка составляет 120 тыс. долларов, практически равна среднему остатку на счетах.\n",
    "Распределение остатков равномерное, так 25 квантиль находится на отметке 100 тыс. долларов, а 75 квантиль на отметке 140 тыс. долларов.\n",
    "Также можно сделать выводы, что главный сегмент высокодоходных клиентов банка составляют клиенты с остатком на счетах от 100 до 140 тыс. долларов."
   ]
  },
  {
   "cell_type": "markdown",
   "id": "04d02894",
   "metadata": {},
   "source": [
    "                                                                   9.3. \n",
    "Посмотрите на распределение баланса клиента в разрезе признака оттока. Как различаются суммы на накопительном счёте ушедших и лояльных клиентов? Подумайте и напишите, с чем это может быть связано, что может не устраивать ушедших клиентов в банке."
   ]
  },
  {
   "cell_type": "code",
   "execution_count": 49,
   "id": "dba488ba",
   "metadata": {},
   "outputs": [
    {
     "data": {
      "image/png": "[encoded data removed]",
      "text/plain": [
       "<Figure size 1500x300 with 1 Axes>"
      ]
     },
     "metadata": {},
     "output_type": "display_data"
    }
   ],
   "source": [
    "fig = plt.figure(figsize=(15, 3))\n",
    "boxplot = sns.boxplot(\n",
    "    data=churn_data,\n",
    "    y = 'Exited',\n",
    "    x = 'Balance',\n",
    "    orient='h',\n",
    "    width=0.8\n",
    ")\n",
    "boxplot.set_title('Распределение баланса клиентов банка');\n",
    "boxplot.set_xlabel('Остаток на счёте в USD');\n",
    "boxplot.set_ylabel('Лояльность клиентов')\n",
    "boxplot.grid()"
   ]
  },
  {
   "cell_type": "markdown",
   "id": "84f337c9",
   "metadata": {},
   "source": [
    "Из сравнения остатков на счетах лояльных и ушедших клиентов можно сделать выводы:\n",
    "* остатки по счетам клиентов, которые ушли, выше остатков лояльных клиентов; (медианные показатели лояльных и ушедших стоят на уровне 90 и 110 тыс. USD).\n",
    "* высокий уровень 25й квантили среди ушедших клиентов указывает на то, что большая часть клиентов связана с инвестированием средств и размещает относительно высокие суммы.\n",
    "\n",
    "Возможно, потеря клиентов связана с низкой инвестиционной привлекательностью банка, а именно либо процентной ставкой по вкладам или несвоевременной выплатой процентного дохода по вкладам."
   ]
  },
  {
   "cell_type": "markdown",
   "id": "bbcc3bbb",
   "metadata": {},
   "source": [
    "                                                             9.4. \n",
    "Посмотрите на распределение возраста в разрезе признака оттока. В какой группе больше потенциальных выбросов? На какую возрастную категорию клиентов стоит обратить внимание банку?"
   ]
  },
  {
   "cell_type": "code",
   "execution_count": 19,
   "id": "be9dc2fd",
   "metadata": {},
   "outputs": [
    {
     "data": {
      "image/png": "[encoded data removed]",
      "text/plain": [
       "<Figure size 1500x300 with 1 Axes>"
      ]
     },
     "metadata": {},
     "output_type": "display_data"
    }
   ],
   "source": [
    "fig = plt.figure(figsize=(15, 3))\n",
    "boxplot = sns.boxplot(\n",
    "    data=churn_data,\n",
    "    y = 'Exited',\n",
    "    x = 'Age',\n",
    "    orient='h',\n",
    "    width=0.8\n",
    ")\n",
    "boxplot.set_title('Распределение возраста в разрезе признака оттока клиентов.');\n",
    "boxplot.set_xlabel('Возраст клиента');\n",
    "boxplot.set_ylabel('Возраст')\n",
    "boxplot.grid()"
   ]
  },
  {
   "cell_type": "markdown",
   "id": "56b66c49",
   "metadata": {},
   "source": [
    "Судя по представленному графику, можно сделать следующие выводы:\n",
    "1. Основная группа лояльных клиентов являются клиенты возрастной категории 30-40 лет. \n",
    "2. Большое количество выбросов среди лояльных клиентов в диапазоне 55-95 лет может свидетельствовать, что это невостребованные вклады умерших людей, права на которые не заявлены наследниками.\n",
    "3. Основная часть ушедших клиентов соответствуют возрастной категории 40+, что может свидетельствовать о том, что банк покинули люди, добившиеся определенного уровня и желающие получать пассивный доход от сбережений.\n",
    "\n",
    "Банку необходимо принять меры по инвестиционной привлекательности вкладов."
   ]
  },
  {
   "cell_type": "markdown",
   "id": "61721ee3",
   "metadata": {},
   "source": [
    "9.5. Постройте график, который показывает взаимосвязь кредитного рейтинга клиента и его предполагаемой зарплаты. Добавьте расцветку по признаку оттока клиентов. Какова взаимосвязь между признаками? Если не видите явной взаимосвязи, укажите это."
   ]
  },
  {
   "cell_type": "code",
   "execution_count": 20,
   "id": "b3da78a7",
   "metadata": {},
   "outputs": [
    {
     "data": {
      "application/vnd.plotly.v1+json": {
       "config": {
        "plotlyServerURL": "https://plot.ly"
       },
       "data": [
        {
         "hovertemplate": "Exited=Exited<br>CreditScore=%{x}<br>EstimatedSalary=%{y}<extra></extra>",
         "legendgroup": "Exited",
         "marker": {
          "color": "#636efa",
          "symbol": "circle"
         },
         "mode": "markers",
         "name": "Exited",
         "showlegend": true,
         "type": "scattergl",
         "x": {
          "bdata": "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",
          "dtype": "i2"
         },
         "xaxis": "x",
         "y": {
          "bdata": "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",
          "dtype": "f8"
         },
         "yaxis": "y"
        },
        {
         "hovertemplate": "Exited=Loyal<br>CreditScore=%{x}<br>EstimatedSalary=%{y}<extra></extra>",
         "legendgroup": "Loyal",
         "marker": {
          "color": "#EF553B",
          "symbol": "circle"
         },
         "mode": "markers",
         "name": "Loyal",
         "showlegend": true,
         "type": "scattergl",
         "x": {
          "bdata": "YAK7AlIDNgP1AawCEALxAdwBJQJ7AmgCJQJLAtYC3AJ8Ap0CTgNBAvQCOwI+ApsBFQIpAggC0gLqASQDUgNGAtgBLAKUAggDJgIIA7oCSQIUA2sCkALVAmYC5gKvAisCrAJbAu8CRQLfApUCowItA5ECXAIHAt8CmAKmAvUCoAGZAh8C+gHtAYwC2QJ7AigDDAIBA9oCAwIFAy4DxgKdAZkCbwLiAhACRgIRA10CrQIaAjICowJ0ApwC+gG7AjwDogKQAqwCcQI8AwID9gIbA68CrgIVA00CzQF9AvQClwKqAuUBewKKAt8CoAHyAswCGwJmAvYCSgKGAncCzQKsAiAD0QKUAmcCqgLkAXQCQgIAAuQB/gFeAlUCUgP+AQoDfAICAtoCDQJoAq8CAALfAVkCRAInA2gC0QL1AQkCUgP3AgACJgJqAp8CsQJbAmwCpAI8ArcC2gLWAgICNwKeArYCUgKhAmICAAL/AkkCyAK/ApYC1QK/AgsCBAMhAnoCAwNLAqkCIAK4Av4C1wKfArUCUgPcAtYCLQKqAuICEwLyAYsCFwOKAisDwwLIAsICCQOGAg4DBwMnAx8DowJaAtsB6AJMAr8C6wJHAqkCBQPKAv8BcwK2AmgCrwLIAikCmwJ1ArYBjALZAoICJgPoAtoBwgJ0Aq0BDQKoAvsC3gLMAlICnwKYApACmwKXAnICkwKJApMCIQIfAs4CSAN2AoMCjgJGApMC+gI4Ap4CZQIbAlID4QIIAsICiAK7AYACdAIcAswBfAJRAiEDgAJjAiIDzQIBAzwCdQLjAbIC7AHFAsECMAJjAtoCxQIgAsgC8AJSAoUCLQIjAr0CXQJRAu8CuwGtAs4CYwKcAhkCxQJSA+kCGwNyAiwCgwJdAkoCpgJUAogC7AG+AuYB1AIkAqsC+gJzAgQCIAPQAXICFgMWAukC7ALSAvUBCgPuAVIDUAJOAvYC+gHdAscCfQLUARsC/QEyA2ACUgMYAvECdwIGAxEDOwJdAmMCOQKSAhQDDQIeA+YB2gKBArQCygJPAsYCfwL9Am4CJgP1AisCtAJ+Ah8CSAKzAqwC3QJXAgwCeALfAt4CGQMLA8MCUgMPArgClQIIA70CYgKhAgcCvgLZAh8CJgJ/Aq4CQQNuAlUCSgNLAt8B/AHtAtECrQKhAT4CSwLlAlIDSAKKAl8CsQIfAq8C4QL5AlkC6QJQAyICtwHzAlECvQK9AkoCIwLVAg4CvAKaAnYCCwNjAq0ChgLkAfoCrwK+AlkCuwJIArsCugLvAYoCXQKbArAC8gIiAqECUQKQAhcCpgLdAVIDqwHwAokCHwNHAxwCuAKUAqoC6AIRA8ICRwLwAkICtgGMAnUC0AKcAtkC8gElAlkCIALvAngCtgKmArcClQKVAi8C9wG3AoACcAKbAoICgAIRAjMCUQIUA6wC4gFPAosC7QJHAssCgQLMAv8C6QJNAhwDmALqAuYC7gKdAlICPgKTAnICbAJEAq4CHAJ6AngC9QESAyoCvQLaAW0CnQIIA7YCEwNEAscCoQJPAgEDkQLxATADDQLVArQCagIiAnsCigJeAkwDwgHXAswBiQL2AuoBLwNGAyMDmALgAnkCmAJYAuYCxgK8AqwCzQJNAv8CiALyAqcCfwIGAwUCOwIYA7ACygIyAsACugJjAlID5wKOAvkCvgLoAasCWQJdAp8CZgL/AVIDGQN0AlYCkQJqAqkCBAK8AukCuALxAdACkwJJA4ICWALQAagC9gJ2AkECrALEAtwCegJ5Ai8CtgKuAvsBMgOUAoAC+QHKAtQBYwLBAoYC/wGNAqMCCwLlAsgB1QLNAlICpgIhArMBFwLSAjEChQL1AfYBjAI+AgYCNQIDAgkC4wJJAt0CHgIUA7MBQQLYAs4CbQKRAoMChQI4Aq0CrQImA1wCiAIhAvQCOQJUAoYCEAMoAtkCPAIRA8oC4gJ/AggC/AKVAjQCxAJQAmsCUgNBAtQCxgK4AqMC6QK5ApMCewIVAzsCtgLCAicDAwMTAnUCUgOtAoIClwIzAn0CIAKJAn4C0wJ7Au4C2gLuAggCjAImAlIC7QKcAgUDJwI2ApMCjwJnAvAClQJGA2ICKwNLAisD9wKIAhQD1QJZAjECNAKKAs8CJAJ7AvABHQIKA3kC5QEjAoICzgJGAnQC4QI8A2EC2gJ3Aj4DhQKXAqYCCQJxAgsCygJEAtICQwKeAkwCLAOqAnECXwJYAloCIQKjAoACUgPqAcYCLAPTAooCtwJwAvcBFwLnAr4CkgKlApgC/gLNAaYCHAPyAVIDdAIbAtwCiwItAx8CFgPuAVIDvwKwAQACTQICAqYCpwJTArIC3wEHAmkC9AJQAykDZAKXAiUCowI7AvQBdAIvAgED3QLuAkcC1AHXAmkCGQN2AiICZgJRAmUCjwK8AjoDjAIaAtkCZwK8AtkCZwLrAlIDyAJuAiQCXwKNArsChwLeAc8C1gJyAicDbQKLAowCSAL0Ap4CEAIdA38C/AKkAs4CTgJIAoUCBAMRAs8BdgIMA0gC8AK5AlIDxAG2AjwC+QHVAhcDGAK7AvQBwwITAi0CkwI/AgcDBAObAgMDCwKWAs0C6gI5AkMCBwK4ArUCSwKaAgACsQIjAyQCtQLzAXAC3QJ0AnkCLwLoApkCfgJFAyQCRQOSAioC1ALTAkkCMgLPAucCqQIJAuUCbgKdAkcCCAJDAroCJAKNAt4CGgOBAjgDFgKNAvIBqwJqAhoCgwKsAc4ChQLGAk8C7AJSAykDXwJSA/QCrwLUArwCrwJlAg0DvwKAAlEDCgMbAukBagLGAnECqgKMAp4COAKDAgkCZwI/As0CcgLeAsUCTwKYAq8BhwJCAisCBwNSA4UCsQIBA2MC6QF4Aq0BAAPLApwCcQKVAjsCzAL2AtUCjQIaAz8DMQLBAgUCrAJsAvUC4wI8AtECwwK8Aa0CoQL3AeUBHwNJAl8CCQIXAtQCCAK4ApEC1gJPAiYCWQI0A5sCPQLzAigCVgJAAp4CCgNzAqsCRwLBAn0CUgInAqACrgJ/AlID0QFCAmMCBQJ9AiYDeQJwAjgCJgPWAigC8wJ6AvQCCANTAoYCUAI+AlIDUgOCAmECHQOoAsEBrQI5AncCUwLNAZUCHAPlAusCJQJAAhACFwI/ApACuAEbAlIDhgLoAsYC+wETA1YCHAM5AscClQKfAUICYwJYApUCUgP8AkYDNQNfAi4CEgKOAhICkAIIAloCvQKNApwCfwLaAgwDUAJ0AlIDOwL4AtACeAIvAgUDRQIMAqQCUgKcAqYCIQJlAq8CywJqAtECvQGyAp8CGgLfAlAC6wKjAngCbQIJAk8CwgKlAgEDAwOeAgUCQgNAAs4CfAI2AscCPgJrAkwC4wKBAq0CUgItArkCkALIArkCTQINAqgCqAKWAmkCMgLBAgQCPQIaArsC+AFHAsgCcgJ3ApcC+gG/AroC2wJxAmgCvgGdAkUC7AKoAo8CsgK3AgUD7QJeAioCNwJSAgECjAIQAxADOgLIAsECqQJsAscCZQKqAlIDWQKjAk8CWgIqAh0C+gEuA6sC5QG4AmACrgIWA44CxAHPAsMCuwJSAzwDUgPIAnoC2gKtAikDiAL4AiUDSQJTAnYCcwJ3AggDpAL2An0CUgNZAt8CZgKgAoICeQIBAxwDywK3AusC3AFSAxECSgJZAh0C6AJTAtQCagKCAkgC9gLNAmMC/gJ8Ai4D+AJfAlgCkAKAArcBJQJuAssCkQK/AiIDGQMVApICyQK3AfsCuQK+Aq4CdQI3A6sCKwJSA8kCxAGrAkECKAIBA7MC4wJ/AosCCwNSAz0DQwL+ARMCdAJ5AsoCXAJ2AlIDHgM5AiMC+gF4AmwCvAK4Av8CwgLQAfUB6QJLApsC5QEGAkUCEQMfA7oC2gIgAsECrAJ/AjUC2wJfAvgCLwLLApACjAJwAnoCUgOTAhECPAKIAkMCTQISAj8DFgOQAjMCmwJlAq0BmQLbAkgCegLoARcCCANSA6ECcwI6AhwDBQPwAnECFwISA2wCXQKeAmkCUwL1AuoC9wEAA08CmwIkA7UC2QJ4AhgCjwKaAtYCCwLYAr0CBgLjAsQBrALYAg8DiAKwAqgCBAJwAm8CcAKFAsMCjwLBAkICqQIvAugBzQKaAkYC3QK1ArYCbgJWAu4BhAIqAtwBmwLsAhMCTQO3AkkDcgJlAkgCoAJbAnkCSgOVAlkCeAKsAq8CfwIsAjoCSQPBAikCCwO4AtgCswLCAnMCzAL1AVkCegLDAcoBCAJwAv0CmQLFAkcCDgNDAiMCSAObAtMC5wGcAggCJQI3AsgCsQLrAtUB5wLDAkUC4QK9Ab8C/QJyAiEC6AJ1Aq4C5wJyAsYCOQIyAsgBKwMWAlIC1QJTAqcCmwKVAisCEwJjAlgCEwIkAvcCpgLzAlICAAPsAYYCUQJUAoIC2AHiAtwCvQKrArICnwL9AosCIAIWA8YC5wK+AsACZgKwAskC1wJSA84CjQKyAjMDegJ5AlIDmQJ2ApwClAJgAugC2wKrAtcCMQK8Al0C/wL/AZsCEwMFAyoCDgKVAroChgL1ArsCmwIGA+kCiQKZAskCjALjArsCxALgAU0DZQJSA2YC2QH6Ar0CWAJSA2UC/QH9AWECyAGXAqECzQLlAlID7QGuApoC3QJ3AsoCxwLSAncCvQIWA3kChAL1ArgC6gKJAjUCQwMRA20CAwLNAlMCGwL6AsICpQLdAqwCpwLeAbgCrgLSAa4CQAL7AvUCRgJvAqkBXQKZAtYCJgLcAtkB6QLcAlADPAK+ApgCagIsAmsCkgJWAqUCTwLFAl8CigKLAqQC0wLKAvcCRgK5AmIC6AENA4UCVQIxApYCdgKgAnwCUQIhAjcCRwKpAvoCiAKEAsICUgPkAfwBtwHkASMDvQIZAosCzQJRAsICGgM4AyoC2wJxAlACnQKXAgYCrgI7AsMCvQKgAi0C3wHaAmgCfwIvAxIDJQJuAnACSQOkArkC3AJvAh0CBQOPAloCUgOJAh8CWAKfAsICHQLHAnYCEwKBAq0CvgKNAo4CVAIlAvICLwPCAlID3AJEAlECjQLqApYCPQKsAhkDDAIwA/cCYALAAkUCvQLfAqgCMAKXApkC9gJtAvwCTQIrAt4CDwNfAhkCAQJ9AnUCRwL7AgQCaQK8ArECcgKuAnMCwwEGA4wCfgLbATcC7gJSA/ECqwLGAoUCygK4AmQCDgOaAjcCZQLOAscCswIPAtwBawJfArcCjQKlAnECpwLeApoCUAIuA1ACZAJ+Ai4C9AL5AZ8CIQNcAswCXwI7A14CzQI9AtMCUgOcAq4CqgJSAxkCVwL0AvMCegJFA9cCNwKPAvsCSwPBApQCKQKBAgECqALHArEChQJoAkYCwAKQAsgC7ALUArMCMwLlAgoDUAN6AvkBtAJ5AkEDUAJLAiYCbgJSAoMCHAJ7ApECLgNYAqoCqgI2AiYCdgLmAfoC8gFbAicCcwIDAl0CNwI4AjsCKgJ1An4CQAJQAr4ChwJRAnECGgJ9AngC4ALzAqkB6QJoAksCUgNZAtoCUgMLAzIC/wIeAkoC5AJIAmYCHwPUAlkCJAPpAgYCMwMIAnECoQKQAlIDPgKnAhIC/AEuAogC0QLvApYCdAK6AtMCeQI0AokCbgLOAo8CuAJ9AnYCUAJ6AmACNQL7ApkCiQK3AgcDFAMgAmYCxQHXAT0D8gLtApsCngKeAjsCgQInAuUC2AFxAooCFwKJArYCjwJsAkECVwLAAuABqgK8AuwBcALFAi0ChgLPAsIClAKbAsECVgKdAqQCygJVAi8CNAKxAlwC3QIKA4YCVQI1AxwCHAIUAhcCcwIDArkCjAJDAvgCAQPyAcECiALBAo4CcAJSArcCVQLhArYCqwIaAp0C2gJuAsoCOQKcAnQCWAK1AsACDwIpAj8CcgJGAqsCUgONAqcCJQJSAy4CEAIhA5oCXgIgAlID8QH8AmEC7ALGAhYCXwInAqICDQKFAvMCxALLAtcCLwIMAsMCnwKbAj8DIQJcApEC5wHHAicCLwJsApQCwQG/AhsDUgJKAmUCWQKRAhMCbQIOAxACSgLyAbMCOALLAqgCIgMbAu4BUgJUAokCEwNcAhoCuAL7Aa0CwQLzAc0C/gF4AugClwJ+AkwCrwJXAs4C2gLHAisCUgOmAkACUAIGA2wCBwLeAt0CigIaAkECGANNAhICCgNoAo8C0QLzAbgCqQKpAoECNQLnAdkCRAKCAlIDaAIOAgsClwJIAzoC6wFIAioD6QJxAhcC2QKPAu8CDQIUArgCEgNEAlQCqwILAycCDgJRA9cBdAKiAh0DTgJMAkECOwKoAogCagKIAvcCSQIGA7kCXQKkAqYCEwMCA5MCtQLoAj0DzAKfAkMDfAKJAm0CEAMPA2cC+gJfAlkCHAIsA60CqAKoAncCOQJIAkYCYQL6AfcB9wEmA40CogIeA+QCEwIsAqYCSwIPAvUC1AG1AgIDzAK3ARoC5wKQApoCcwLgARgD3AEbArgCKgP7AoACjwIOAioCMAJvAmwCMQLxAtECwwFOAnoCpAKCAuACkAJAA3cCiAJnAqoCtgK2Al8ChQKNArkCawKIAvACgwI9Aq4CvgKMAoECPgKDAkIDTwLWAWACmQKLAqUCmQLlAUEC0gIQAh4CKAI/Ap0CfAJ9AgQCIQO0AkkCTgIqArICuQJiAlcCIAJ7AtICNALPApsCXwINAl4CrgI7AzwC1gJDAlYClwL5AUACKwIMAggDUgNbArMCRwKnAoYCLwJTAqwCoQIiA/oCbQKbAS8DdwIXAwQC3gKBAkkC+wHfAsMCugJJA2YC4gKmARkCwwKYAlIDSAKSAhoDFgOAAowCBwNIAnsCLgOmArUCgAIFA+ACtQLwAe8C8gI4AlACLgI5A40CUQJZAhIDjgI8Ai0DCwL6AQECmAKsAg8CdQKuAcgCqgJ6AucBKAMPAiIDUgPiAjED3wJrAp8CRQKyArAC2QLOAsgC2gE1ApICygLVAjkDngLaAU8C/AG3ApQCrwKSAuMCTANaAvcC6wKhAoACdgK/AoQC3wIRAiMDXALiAo8CugIHA/4CGQJXAqICOgJvAsYC0gH3AkUCNAP3AqQCTwKyAnACPQK2AngCeAJAA64BxwJGAl0CkQIUAmQCGAOiAqgCUQKnAu0BsAIBA0UC0QGBAnEC1AEWA0sCtAKkAjsCvAK9AeoCVAJSA7QBlAKJAjACxgIBAl8CawJkAkoDAgMFA9YBDQOsAbkCtAIXAxoCNAOnAokCeAJSAtACAQNvAhkC1AHZAh8C8wEQA2YCnwJLAlECOgKPAngCqQJPAgsDrgJpAlIDhgIfAuoBgAK9AfkCqgEJAxYCCQMmAxYDgwJIAn4CAwNYAnMCkwJDA/sCcQIfA1EDtAJvAqUClgIWAloCmwKgAkYDtALbAtQBHgICA4cCXAJBA5ICowL9ArsC6wGkAuoC1gHKApgCuQKeAh0CgAKHAvUCCgN/An0CrgL6AfUCOgPRAukBvgGlAgEDKwKMAtICgwIcA9ACZQKbAmICTALfAaoCpQJSA+oCewKYAi4C2gIFA8cCUAK3AoAC1gFcAu0BnwKQAuMCMAI7A6kC5AKXAisCfgKAAgoDpwJRAtkCVQIZAtwCHgKwAh4C8gLbAu4B8QF4Au8C3QK9Ag0CjQJSA4YC7gL8ApIC1wKvAncCHQOKAlIDbALiAbcCwgKcAqcCvwKeAk4CZQI7AlMC6QJNAu0CpgJbAvgBXAJkAnUCjAI1AoUCfwLFAjcDmQKGAjgC2QHbAmsCywKuAqMC2gKrArECHAO/AfIBlwLyAXMCiQJLAggDXQJUAqsBdQLwAc0CCQMXAugC8wJRAtECQwOqAk4CRQNJA0gCAQNXAroC3QHdAekC7QIQAu4CHwJDAnACVAKAAvAClAJhAsECvAHwASoCGQK8AsoBUgO7AmcCXAKcAlIC1gG9ApgC3QH0AnECvwKGAooCmALVAkACYAJSA3MCmwIkAgYD8QFLAlID0gIrAmEC3gLOAlYCxwKpAsgCKgJjAjAChgKoAncC6gKOAq8CxAKnAnwCtwKlAtACjQKiAmwCbwIjAhIC6gIAAnYCOgJdAhICLQPAAjUCDgKlAkwC6AEHAsUCxgKNAucCogGeAtMCJQIfAlMCoQLlAvwB8AIpAz8CgwK6AvABVQJbAo8CrwEOA0UCkgKuAhsCUgP7AnoCGwL8Ao0CNgLKAkQCJAKGAsICqAK6AkUCwwL5AuACiQKJAmQCkQL/AaoC7AIqAhoDUgKMAtkCcQJVAnkCFwK+AsgCXwLsAi8DWgKJAv0BrQIYAscC+QI2AmwCRQOhAn4CQgOzAsICeQKaAsQC2gK4AikDvQJcApkCuAIIAnoC7gISAo4CiAJDA74BAgK2AioCLQPgAcsCbALRAqgCFwKPApQClgLPAfUBWwKwAq4BWQIBA98BvQJRAuICewKSAq8CigLQAloCagIjAxkDaAImAsQBjwL+AS0CpAKAAhECsQK5AjcDNQJ3AoYCpAJSAyoDRQLOAskCDQOQAkcC0QJSA7UCCAL3An0C8wKWAvcBVwJHAgEC2gI0A1UCfQK4AnsCoQKWAqsCLwOfAsUCvgIuArMCvAKbAkQCOwIxAhECngKaAnQCQQKMArQCowJ/AioCFQIcAsACpgLIAhUDBwM0AkkDUgP0AY8CmgKSAu0CjgJvAvkC9QLWAksCXQJSA1ID7wJzAuACjAJzAnwCBwNSAwQCAQKhAjQCfALIAjgC8gLFAv4BzAJfApAC5gGjAvMCkAKEAlYCUgOnAngCJgI8AnQCEQKcAg4CFwM9AjUCkAK/AbUBcwL/Aq4CGgMfAr0CiAKLAnkC5AJQAp4CdALpAsECLwJTAuwB8gGPAnwCegIZAxwC3AJpAn0CPQITAukBWQLEAdgCTgLqAVQCewIOAxYDGgMDAuoCxQLHAuwCbwLRAYACMgIYAp4CBwP3AlwCKgLnAdUC3AJvAg0DQQLbAooCCwPdAkMCBwNaAmcCvAJnAisC3AECA4ECEAOGAn4CeALsAaECYQK9AosC/AHpATcCygKmAkUC7AINA7MC1ALBAlIDygIvAkEChwIQAnsCSAO3AjQCJQMuApECgQLzAuMBIQKmAjsCegILAvUBlgKIApYC1QJ0ArACUgNmAvUCnQLsAW4ChQLYAosCDwPcAikClALOAhMDBwPfAZQC0QKTAucCTQNcAjQCfQIPAq8C9wGaAmcCyAL8AtcBYAKqAksCygJ2AogCEQNZAs0CwwIDA1oCTAJoAm0CogJ5AvwBoAJlAsgCcAKkAqsC6QHjAr0CNQKaAnkCQgIpA6wCIALJAnkCoAKVAu0CgQJ5Ap0BGgK1AZQChgL/AoACCgOnAiUCVgKPAu4BjQKFAu8CEAK4AswCWgKHAlIDTgI5A1IDFQO9AjoCGAIDAwACkAL5AsUCVQJQAlcCPAJjArgCnQLWAu4CUgNpAjACdQKUAqQCRQIeA8ECygK5AmECJAKQAoICxgLGAs4CSgJpAnYCoQLdAZYCQwJiAkUCUAKpApICGANwAjICpgKKAlECjAIqAkgCBAIVA1YCnQKFApMCQQO5AkQCswLeATwC9QFwAlMCWwJaAvQBpgFnAnsCxwJ5AooCNwJ+AoECPgKCAtICbwKpAhICRQJNAisC6QLaAjUCCgMsAw4CqAI3AjQCxQL+AfoBXQKKAukBkwLxAt0BawJrAvYCBAIVA+UBvgHIAgoCJQMNA54CngIMAt4CbgJLA68CvAKaARkCDAOMAmwCuQISA1IDvQF9AvQChAJSA78CrAJEAgkDpALEAikDTAJvAhkCAQOyAvEBbgJaAh8CCAKdAncC3AJGA4wClAK0AkwCFQJSA/8BEgIqAkkC8gJFAzcCIAOGAnMC+QFrAvUCiAJtAh8CkgJ5AogC9QHBAsYC1QJ+AhcDXwIXAvoB/wH1ApcCOgJSA5MCxgHQAucC7QEtAlIDHwP0AvACuAJ2ApMCrQIvAmcCRALnAYYCKwMOAv8CJALhAscC8ALGAv4BQQIRAvUCbQLFAvQCFAPBAuMBzwIZA1ECsgI3AwACIgPCAYsCuQJjAoMCNgN4Aj8CoAIFAm0CBwNYAoAC8AJlAuQB/wESA9cCbgIaA+UCrwKUApQCaQL6AjECYQIjAywCmwGOAp4CjwLwAhYCewLrARICrwKsAsIC6gEcA1EDCwMaA+wChQLQAU4CCgKIAvIC+wIWA0UCvwI7ApEC4QIZA+8CQwKPAmYCMgLHAmwCtQEoAv0C/AJJAhADXQK7AiAC3wKMArYC5QJOAikDCwJUAlUC3gLGAhsCHgKqAgMCiwIYAzEDogIBAjECcwKqAqsCpAGeAvkBQQIFA/sCUAIQAnYCEQLxAgQDNwJ0ApICpwJ1AtsCBwOUAvACjwIfAisDsQITAgMCDgNjAlwCjwKxAqkCgwJpAucCPAMIAxwCaAJnAh8CKQIqAqwCxAF1ApMC7QEqAicD9AEvAkgCQgPyAuQC3QLzAhYCkAI/AvYCqgL1AeoCfgLeAisCcgKpAsUCMgKsAncCkQK7Al4CZAKUAj0DNwJSA8gCMgLzAhkD1wHDAhADvwLAApYCfAKAAuMC/wLKAsMCQQJ5AlEDZgIuAkADNwLIAo8CgQKkAtgBhAJWAhgDvAJoAucCqwHbAmICjQIGA88CsALaAfkBYgLBAp0CigImAjwCbgKWAsoCWAJPA4oCxgKqAoICGALyAuUC9QLRArwClwKlAo8CQAPRAo4C/AFMArMCmAK3Ad8BBgLNAlIDcgIGA88C5QEQA1IDnQLbAtECAwIGA0kCtwLZAskCKwK7AksC+gL+AUoDYAJSA4ICUgPHASACiwIuAxkCKQIgAxcDuwL0AlID+AI5ApUCtgLYAn8ClwI6A98CqgKXAjICuAJSA88CJANcAg4DAAI5AvECrgH0Au0BCQMLA74CJwLtAvACfQLUAq0CcQJIAiYClgIjA2cC4QG9Au8CowLdAr0CKgLTAv4CVQI+AqACzQIJAnkCnQLOAWsCmQKPAs8BJwPYAkYCwALKAnQCKQMwAisDSAKzAkwCEQJuAqsCPwJBAowCrwI2A5AC6QKsAnsCRgJlApMC6QJcAv0BwgK3Ah8CgAKgAr0CegITArsCwQGsAsoCyAIPA6sCjgK8AugChQINAtwC0QJuAo4CUgObAmwCaALGAs0CEgOLAqgChgInA9cCEwMmA1sCrAIuArcCFQNVApUBkgJ5Ak0C7gIsAxsCngKhAlYCCANeAq4CUgOCAl4CcwJSA1ID1AJDAtcCnQIGA38CQwN9Ak0CTwLTAt0C2wKOAjwDTgKRAhMCBAIxAqoCPwJvAoICnwLvAVIDdgJMAjICtwJNAl8CGgOEAnwCVwL7AaoCygK4AlcCQQLdAocCPwMfAqcCyQLvAr0CugLDAZkC1gIlAiMDlwLKAsACkwLiAnsCEgKVAhMCtgLbAiwChwJSAz0CTwLTAmkCyQETA4sCZALUAogCOQL9AlsCOAI9AgMD+wKaAdgCjwLIAqgC0QJsAgYDMwJSA6kCdwJmAsACEgMWAk4CkAJVApsCcwLEAg8CUALRAXQCOgIvAzEDzQKBAnACQwK6AoUCswJ+AsEC0AIpApICfAIPAs0CZgJLAsYC+wFhAhIDxgILA90CRwJzApoCbAJmAl4CvAI0AmwCYgJhAqsCeQKkArUCxQI1AqkC9wGQAlACrwKuAmgC7gEWArcCQwKwATAD2gJRAgcDGwJAArACYAKeAmgCEgPAAhwDVgJaAmsCgQIGAm8C3QJxAvcCXAIAAggCJQOQAhEDKQI5Ap4CSgJpAvwBcAKOAqkCQgJtAngCNQPyAjgCSAIlAtkCCwKjAg4D4gKUAg0CdQJoAgkCswKvAqUClwLwAcIC2AG/AlIDLwKgAogC8QHnAmsCfwIcAv4C7QKPAnYCCgMRAmwC3wL5AdcB0gJBAugCPQKNApQCEwNpAjcCqgKsAkkCBAJ0AqoC6gKPAoQCCgNpAhkCKgImA2MCmQKIArQC+wGpAq8CgQL7AbACvQLoARsCGgIAA0kCRQKqAo0CyAJsAsUCewLtAnUCRAMeAoUCTAOFAvAC+ALKAs0ChQKpAqcCEALGAt0C1ALWAggCLAJDAqICOgJ3Am8CmQILAsICawJgAg4CXAJ8Ap0CcAJ3AvECTALZAuYBMgL7Ap0CxQIqArsC3AJXAvMBDgIZArgCpwJSA+8BGQJSAwECagIiAyMCZQJQAiIC0QJwAv0BjQLFAi8CrALFAmECagJSA1ICaAJgAsYCtwISAv0B9gKZAncCQAIgAuEBAALRAsUBMgKqAuwC2QKXAnMCyQIyAngCkgJVAgACwALaAVwCqwIZAhoD7wEoAloCXwLXAuIBrgJMAl0CRwLiAugCDQO7An8CRwJLArYC/wEUAw4CswLhAfACkgKnAvICeQKiAlgChQK6AvwB4gLCAkICuwI6AywC/QIgAuQCUgP+AmQChQK4AswCTgKQAtkB0QIEAlIDHgNkAhwCzwIcA1IDVwLUAvwBBQMOAh4C1gElA6ACBQNmAsACSgKlAi4CegKPAmsClgLBAnYCUgM9AqgC9gJVAkQCbgJ+AoAChALxAr0CxAIJAnwCEQL1Av8CDQL3AuICJAJnAlID5wHbAtYCYQLKAroCWQIBA1ID5wHkAq4CZAKPAmkCogLHAnACVQKqAgcD1wJ1AqwCJQJRAhgCwwJQAr8C0wLEASgC3wEAA+YCwwLOAvoCBAP2ATMCpAJAAnUCcQJ0AtcBKwP4Aa8ClAIkAmEC1QIyAhcClQIDAyECUgNZAsgCTQJYAoICOgIcA4ICjwJpAvoCvwL7AVECiALOAVQC7gFzAlIDeALqAcsCpwLRAeAC9QEXAvcCMwMVAngCrwKbArsC8QEMA4wC6AE8AvMCCwO1AhIC4gKyAmMCgwLXAvwBJgLyAvcCGgMlAp8CeAJDAuwC6AHGAgUDkQJDAh4CxQJpAgEDYAL3AWACUgNPAkMCOgLFAmMCuwLAAsoCRQJQAicCsQJcAgICugI9AsEBUgNkArICVwLyASIDhALKAgoC9gHaAk4CygEpAt8BtQLDAnwCJwNGArYCCQNWAkwClwIJA1ACUgMcAqICKQJ2AtIBZQIuAgcDugJgAp4CTwKmAk4CwQJgAqoCVAJCAgYDyAJJApoCxAK9AbICUgMZAp4CjAK4AoICXAJaAusBUgMJAtYCUgN9ArICsQIrAjMC7gEWArgCWAInA04CZgL+Ai0CiALWAgUDRwLBAq0C5QKSAj8C1QLCAYICagJOAt8CJgIrApsCFgPXAugCdQJrAnoCYAL7ARgC2gJHAoQCFgMnA0UCUgPyAn0CuwIeAoACKQLlAlYCagKHAusBjAKdAaABdQKmAg8CqwIYAoYCwwJaAnsCVQL3AacC0AIdA1ICEQJeAgECXQI+AtYCYwJRAtIB5QKsAiYCUQKkAiwCzwL9AawC2QKrArECoALjAmoCogL6AhYD8gLZAl4CaAIEA4wCGQPnAuoCyQKmAhwCZwKfAXQCvAJvAm8CpwICAusB8QK1AqcCEQJrAqgCQgN8AhoCNgJVAscCXgJnAk0CXgJGAsYC0wHtAtoC/wJnAkcCUgMeA7cC4wIlAlIDpwJeAlIDawLPAoACxgJEAiYCSQP4Aq8C8QKVArsCZQIOA0YCpwJjAscBbQLmAuIC5wEBAjMCIwNfAnQCrgK8ApcCnwLYAj4C0AFcAkQD/wEGAvQC6QFuAowCcQIJAjsC7AJPAi4DxQKxAQ0DkAKrAmwCDQIZAwgCgQL4Aa4CFQJBAoMClwINAtQCrQJMAocCEQM3A68CUgPwAQ8CDQLXAp8CcQKDAsMCGwLyAbgC9gKtAo8CWQIuAkoC+QIqAgYDAwMYA6EC/QLsAqYBOAL2AQwCsQKVAl4CpgJ8AocC3AIvAkUCNQKRAk8DVAJDAuUCZQK2AuABmgI/AlID5AJMAqkCYwJNAs0CLAJSA60CyQK1AV0C9gJYAjsDYAJgAioCqwKUApwCCAM0A5kCUgO/AvoBTAJuAl4C9gKlAjsD2QKOAo4CawKCAtgB1gF5AloCgALGAXwCbQIbAyYCdgI9AjEClgJ9AosChgI3An4C1QLFAhMDjQKXApYC8gJCApoCVwI5AygDAwK8AYoCYQI4A5YCuwJbAiQDdwL3ASQCnALLAj0C/QGeAmUCpgIJAygCgAIdAvQCrAJwApUCcwIsA80CtQLBApUCPQJ/As4COgLNAWACVwL6ApYC6wIbAnECbQLyAqcC5wFSA1sC2AJtAkED9gE5A5wC5wFYAl4CPwJBAosCtQIgA8cClgK0AmYC3gEyAsUCrAIiAgsD4QG9AV4CugI4AhACnQKAAhECIwLDAt8C/QJSAqMCvwIqA8sCmAJSA9QCMwLKAmYC5AJLAtEBsQKQAkMCzAInAg8CrQLiAhACQALdAl0CSgI0AuACowKQAs4BUgNSA3QCHgNPAmYCmQI6AncCSgKzAn8CugLdAlIDagLZAUICsgJUAj8CogL7AckBSALoAq8CsAIHAt0CmgL/Ab4CkgKOAokCVQIOA4QCpwKmAiYDnAKTApQCWQLvAhMChwLEAiYCngJQAk0C1QI6Aj8C9QGvAc8CUgMqAqIBywL+AowCkwI+AmMC4gI7Aq4CpwJpAqEC6QKlAmUCSAKXAtIB/gFrArgCKgKTApYCLAK9AksCOwIbAoQC8QLCAjkDcwIUAvwCvAKUAn8CLQJ5Am8CYwIHA6kCNAKeAu8CIAJ/AqACfwK5AlID7ALPATwC5QJ9AosCoAIMAnACpQLQAc4CPgJnAosCLgIcAnYCCwKmArYBIAJTAqYCUgNNAhEDMwJPAoMCXQIBA2wC1QIyA50CyAJbAlUCRALOAg8C2QLqAvcC7AK6Aq4CpwKqAgoD5gKJAvsCUwJxAt0CmQLVAioCowJ7AlkC9gKAAvICjgKKAj8DBwJBAkAChgLHAiYDngKnAlIDngLdAvwCoQLLAm0CHAOgAg8C0gJUAuoCCwJwAikCUgNXAuwB5wIKAqkCdgImA78C8wLPAqsC7QLUAgIDqAK7AroBPgJdAngCLgKAArICXwJSAwwDagKkAvsB6gGmAn0CWgLoAoACrALvAS8CrAJlAhoDtAK/AtACCQONAigCxAKHAlUC9QHFAm0CHwOjAjECwwKeAokCDAI9ApECrgKrAvECCAIjAogCfwLRAiQCKQL1As4CcQLoAu8CDQMJA8wCngIrAqcCOwIAArkCqAGsAlgCCQJ6Ar0BvgLlAXQCXALUAjcCEQM1A3ECBQPWAoECiQKyAeIC+wFeArkC+AGNApQCjAKdAlIC9AKCAuYBJAObApsCpwKoAoQCOwJzAhgC6ALFAo0CiAKXAmUCbAKVAp0C/wLrAY0CpwKvAkUDUgMjAsMCdQKvAvYBeALaAVIDSALmAvkCWAL1AaIBHQMUA7sCaAKLAo4CsQL2AYMC+gLPAhUDKQLAAXgCnQKOAtYC3QIRAu0BZwKaAoQCwwJbAp8CVgJeAlIDhAKPAlIDqwKXAn8CwAKzAlcCPQJNAocCegKUApoCuAJEA5sCVAKuAVQCVwIHApwCeQKHAt0CLALpAX8CywInA8oCcgK5AlID4QIsA0cC2gKlAuwC8QJ6Am4CuwLKAvcBrQJeAqYC1AJ+AnQCEAKwAW4C0QJmAnoC5gLOAnwCugLIApMCPQLcAhYD2AKFAocCVAJiAgACmgK8AosCHgKuAlIDkgLAAWECugL3AiACNwLqAXICzgIEAzECLgMaAlgCjgJuAmICGwMtAjgDugJ2ArYCqQIzApMCNgIhAh4D9QKBAs4CbwKEAvQBRwJTAp4CLgOUAkQCUgOkAkICQwLHArQC+AIoA2MCjwJZAvMCKQLTAvsBCQM2AtwCuQIrAkgCsAJyAnwCzwLbAqoBvQIAAnsCrQJhAqYBkAJKAuEB7QIxAqQCZwJGAlkCxAIdA6oCtgI8A1ICQwLTAhoDogKiAfYBpgJXAuACqwI8A7MCzgKoAkYDtwKpAvoC7wKmAnoC7QJOAmIC9gFCAiMCQwKVAhoDzwLYAlYCNgOeAlIDwQKlAuAC9QEEAv4CCAIdAhYDHQMrA9ICowKUAjYCAANiAssC7gKvAcACZgLsAuwBPQKoAsoBTgJaAhwC7gEdAw4CdwJAAisC7gKZAoACyQG3AocCKAO8ApQCZwLBAs4CSwI5AjgCegICA6QCWQJdAvACUgNgAhIDmwJQA+YBVgL6ASECGQOqAqwCtAKaArUC9QKsArMC4gHfAqkCaAJ7AjQDyQKJAjEC1AK5AUMCCQPjApQCKgJSAyYC7gLqAV0CowJtAlIDxwJzAlIDZgKrAoMCWQL+ArsCUgNSA3QC4ALHAkcC9QLtAsECSQLlAuICSgJzAicCXgKiAkgCTgJJAvwBygG0AvYBBgKUAgUDawKsAnsCqAJgAvQCYwIUAocCRwIGA6UCHgJlApoCCQPBAqECXQLeAjwCUwLtAnACmQKIAjkCNgIZAt4CZAKIAi0CgwKxAYMC6AHnAuoCmgJEAlIDMwL+ApMCXwKEAuoCTAKzApoCgAJjAhECpAJ/Ag4DgQK5ApEC6AIGAycCGAOaAswCUgJYAjUCpgKIAoICnAJ7AlsCewKCAnQC8wE3AsEBvQJlAqsCRQIxAi4CggIlA68CMgJlAk0CUQLKAkwCpwLaAkEDSgLHAjwD9AEnA1IDDgN1AkYC1AElA9ACDQNQAvcC2QF/AsECBAJSA+oCbgLnAtwCUgNSA64CLAKhAikDdgI0AqUCRwJQAlIDeQLvAlACgQJRA4cCYAIrAvEBVwIhAgYD0AG4ApsCLAMEAoUCmAKrAa0CSQLEAs0C0QE6A+sCwwJOAmcCegLMAk8CPgK9AusCigLbAn4COQLLAasCUgMAApgCtgKPAl8C+wKfApoCmwJSA24CQQIrAiMCZQKgAnAC0AIDAysD3gIkAsMCbwKuApECMAPkAdgC3QElAsoC+AESAmsCaQIXAwkDMQO1AkACgwL1AjkCBANAAmACGgNRAlUCtAK5AgADIgNIAmYCnwJ5ApcCMQIBA04CMAK1AZUCpQIwAkICpQHsASECQQILAhkDxwJ1ArcCTwPAAmUCtALQAkECxgLMAkgCGANdAuYBZwKkAjsCUgPNAgwD7AH4AvQBjgIfA7IBzwKBAs0BFgNMAm0CqQJeAh4CyQJVAnsC9wL1AjQCMQK+AqYCwwJiAugCVgIyAm0C0gJbAvoBywKyAoQCTQJQAngCQQJMAmkCKgPOAk0CCgPUAt0BRAI2AscCwgK/AqcCVgJEA8ACXQIEAjwCXALjAb4CJANSAyoCTAL2AkYCeQI0AloCiQKnAn8CNQI5AxACQQKXAvkBeQJKAlIDdQLoAn0CPwKfAjsCTgJrAoACngLhAisC5gIwAo4CEwMvAuEB8QKjAuwCYgJEAnACxQJdAsICNwLrApgCxwJhAngC1QJSA6oCHQOcAg8D/gLAAtICtAJIAt0CUgMJAqMCagIsAu0CvgJLAn8CgwJYAosCmgIIAooCNAJKAmkCyAKOAl0C6wHDAn4CqwIvA4UChQKrAocCFgJaArcCKQIEAo8COAK3AiwCSQIsAvgB2wKLAq4CsgI3AlIDfQLzAWQCUgMbAzUCIgMKAiYCVwLtAfMCXQLEArsC5wJrArQCMAIfAggDTANKAkcCvQLWAj0D7QLnAmsC7QJYAvgCEAJ2AqsCpQKdArUC8wICAiQCUgNkAnQC1AJCAw0DngKXAnACVgJrAhgDqwKzAv0CfQKbAj8C9gFhAssCHQJSA1MCcQIxA1IDZQLFAqYC0AKWApYCAgPRAr0CfwJ4AsgB2QJ4ArEBngLCAgoCiwLuAZ8CQQJLAsgC8gGUAqYCEgIvAlAC/wKNAqYCSgKDAmQCogKRAtQC9AGwAncCegIhAoQCxwLIAnMCtgIWAlsCKAPCAp8ChgIhA9sCbALkAYcCsAKxAgECKQKxAgUC2wL7AdQBqgIKAnUC2QI+AqUCcwIUAwcCuwJnAm4C8wL/AvACeQLNAkkC7wLvAYoCEQJJApwCTwLbAooCTALIArMCpgLPAmIC0gLFAqYCeQKAApACEgMxAicDWgLXAqYC2gJUAq4CrAIdA5ICjQKBApAC7gIAAzgCwgKuAekCfwLAAosCwgJ4Au8C/wLlAggCcgIrA9oC8wHyAswCfALWAbwBUgN9AgACBgOBAkoCYwKUAi0C2gIXAgUDGwKyAjUDrwItAhQCHALBAsICygJGAmECBgI1At8CLQMEA14CmwIeAvoCugJSA58CBwP4Ae8CswJJA8UCoQIdApUCEAPmAgoDEQKmAgQC1QESA78CQwI1ArsBswLHAgcDbQKcAnkC3gKyAYYC/ALXAtQC2AJ8AnoCcwIGAq8CbgK1AsIBlwKUAkMCqwKPAj8CPgIbAwgDpgKXAuwCpQIFA6MCiQIoAm4CZwKpAgADaQLEAScDNwJbAmkCvQK2AVgCUgPlArEC5wLtAaAB1QLxARkC0AIdAx8CxgGzAhgD0QL9AlIDqQJRAqICYgKMAlID5AKtAi4CpQJQAowClgIfAqMCgwKcAX4COAOrAlcC8QJSApECzAJSA14CCAMtAmYCbAK3AtkCOwLJAS8CmAIOA8QCogK5AgYDcALrAssCKAOmAkADnAIOAskBiQKdAtIBrQJiAkYCvgIsAykD6ALbAtcBnAI/AucCRAIWAqgCdwLlAbsCyAJSA0gCXAJKAtMBCAItAmUCEgNRAp4CzgJvAvABrQHzAYICoQI6AtgBJgIEAqoCbAJyAm8COQLUAncCTgPbArUCBAORAgYDmwIEAicCHgJvAr0C2wLNAb4C2AJJAj0COAJbAq8C1QHdAeECQwPNAjIC9gKYAYoCRgLCAjcC0AJ3Am8CAgKKAqEC+AHTAoUCmAL4Av4CegKAAhADYAIjAmQCPQJnAsYCogK+AmgCsAJdAqQCxALpApUC1gLvAgcDHAJPAlQCPQJBAj4DlwKlAc4CjwLIApcCQQIiAiIDTgJSAh0CDQMmAxcCAAMhAkUCAQLbAtcCdgKMAtkCdQKbAp8C3AIiAsAC1gGwAjcCYQIJAiwClgLAAu4C1AGzARECYAKaAtoCBALHAuACAAOrAbIChwLKAmACKQPpAg8CUwJSAzkC2ALZAeICkwJVAr0BnwKSAo8CBAOpArACeQLfAgkCHQJkAjICvwLGAr8CagKxAs4CYAL0AgcDewLBAuEBUwIXAlUCwQFSA+4BpAIyA8gCoAJ8AroCVQLNAmYCxAJFAkMC4QIcAmECCgNtAmACqAKXAl8CqQL+ArYCmwHmAhECBwI9AsUBHgO1An0CoAJVAh8CtwJIAowCWQJ0Al8ChgI8AiEDVQJlAhoDLQLzAeMCygEQAoYCNALWAjACyQGhAkgC1AKEAvMBLwIfAqcCUgJKAggDuwJPA0YCiAIfAs4BgAIFA0cCTQL9AWQC+QEiAqkC+gISA3UCEwPJAh0CwwGEAq4C/QKmAhsCIAMfA3UC3gIeAp4BqwLsAlQCggLzAYkC4wJoAjACqwF5ArsB1wKiApUCawIyAnkCJwKwAnsCMQJSA3wCzQEDA8kCkgJKAuEC5gK9Am8C6AK6AmgClgJSAq0C5gKmAosCQwLSArYCnAIRAnwC/wIMA3sCUQIcApcCdgJdAvMCgQLhArcCLgKZAuECjgJrAk0D1wJGAswClAKYAiEDZwLOApsCngJOAuMCRQMoAkQCrAJ6Al8CIgPgAuECzgKBAqUCgQKSAkgCxQKyAnMC/QKFAswCrwLNAgwCpwIaAvACTgMUAlUCcwK8Av4C6AG2An8CKgN+AlMCUgOjAYACOgKAAtUC7wIAA4gCQQJ/Aq4CkQJlAr0CQgKxAq8CtQLhAosC8QILAsoBgwJ+Aq0CrAKeAsECiwLlAkUCIAJHApcCmgJXApsC1wKxAn8CpgILAooC6AK5AiADmALkAkMDpAJlAskC7wILAgcDoQJoAooCDQNRAvkBtAItA1ID8QJSA58CcAKJApgCqAK9AqwCSgIKAuMCQwMWA58CMAKLAqoCKAOEArACaQLiApcCTQN/Ai0CHwJJAmIC1wIcAqIBlAJSA4IC4wL8AZsC5QJQAgUDUgMPAwkDWwKEAocCiALRAgwCcgI5AkICAQO2ApgChgKPAsECpgLiAr8CKgLUAlECxgJ3AowCKgLjAZ0ClgI1Aw8DUgMvAloCtwIiAs8CGwJ4AgQDxAKcAuICEQNVAhMC/QH8Ae0CkwKjAgID4AIMAqICvALlAscBYAIIA+oCqwJPAkUCrAIxAs4CTgI9Ai0DgQKWAvEBzAIOAvgCnQKPAhYD+QLuAqgCwAIJAsQBtwJxAmACywJCA9UBDwJCA0cCuAJeAskCNQMmAqMC7AJeAtYCIwL2AlQC0AKiAvQCiQJlAoMCWALfAkkCewLYAU4CiwKuAl4CDQNRAhkDFwNSA7oC/QI+AkUCxgImAgsD+wIzAqYChAKqAnEC3QIAAoIC4QI/Ah8CCQJ9AsoC1gKoAvUCIwMwAqcCDgLlAQUDiwJKAl8C1ALdApsCkwLGAqUCHgP2AssC8AIyA+oBFQKpArICkAKhAiYD9QEsAnMCjAInA8QCawJZAr0BIAMqApAC4AGUAhQCpwIMA+sCwQLcAgMCMAP9AVkCxwEjAykC1AJiAi8CMwMEA60C+gGCAnMCWAI5AvQCoQJ9AoQCkgKJAlsCyAKFAsECTgJ3AlwCgwKyAi4CiAKMAigDJwLHAhUDWgJAAkgCUQK7AkYDSwLuAuQBQAI3An4ChgKSAk4CIgJbAmsCpgLLAZ8CzwKpAsICzAIHAyAC9ALmAk8CmwITA84CCQJfAnkCTALUAtACCQJsAtgCSAKvAqYCngKjAqwCfQL4ApYCqAJcAvwCCQIbA6YClAKGAsIC2gJeArICQwLhAewB4wKqAr0CzgLwAR8CaAKMArAC9QKbAtUCtgIjAy4DYwLzAqkBUgOlAh0D3wJhArwCDgK1AuwCkQLjAhAD6AKFAp0C1AJSA3ECewLUAiYChQLKAnkCGQL8Aj0C5ALfAXMC3wFvAgACYQIGAkED9gJjAkcCfQKrAgYDpQLlAmUCWgKTAqECXgIHA0kDygLWAoQCIAMDAwQCGAM=",
          "dtype": "i2"
         },
         "xaxis": "x",
         "y": {
          "bdata": "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",
          "dtype": "f8"
         },
         "yaxis": "y"
        }
       ],
       "layout": {
        "height": 600,
        "legend": {
         "title": {
          "text": "Exited"
         },
         "tracegroupgap": 0
        },
        "margin": {
         "t": 60
        },
        "template": {
         "data": {
          "bar": [
           {
            "error_x": {
             "color": "#2a3f5f"
            },
            "error_y": {
             "color": "#2a3f5f"
            },
            "marker": {
             "line": {
              "color": "#E5ECF6",
              "width": 0.5
             },
             "pattern": {
              "fillmode": "overlay",
              "size": 10,
              "solidity": 0.2
             }
            },
            "type": "bar"
           }
          ],
          "barpolar": [
           {
            "marker": {
             "line": {
              "color": "#E5ECF6",
              "width": 0.5
             },
             "pattern": {
              "fillmode": "overlay",
              "size": 10,
              "solidity": 0.2
             }
            },
            "type": "barpolar"
           }
          ],
          "carpet": [
           {
            "aaxis": {
             "endlinecolor": "#2a3f5f",
             "gridcolor": "white",
             "linecolor": "white",
             "minorgridcolor": "white",
             "startlinecolor": "#2a3f5f"
            },
            "baxis": {
             "endlinecolor": "#2a3f5f",
             "gridcolor": "white",
             "linecolor": "white",
             "minorgridcolor": "white",
             "startlinecolor": "#2a3f5f"
            },
            "type": "carpet"
           }
          ],
          "choropleth": [
           {
            "colorbar": {
             "outlinewidth": 0,
             "ticks": ""
            },
            "type": "choropleth"
           }
          ],
          "contour": [
           {
            "colorbar": {
             "outlinewidth": 0,
             "ticks": ""
            },
            "colorscale": [
             [
              0,
              "#0d0887"
             ],
             [
              0.1111111111111111,
              "#46039f"
             ],
             [
              0.2222222222222222,
              "#7201a8"
             ],
             [
              0.3333333333333333,
              "#9c179e"
             ],
             [
              0.4444444444444444,
              "#bd3786"
             ],
             [
              0.5555555555555556,
              "#d8576b"
             ],
             [
              0.6666666666666666,
              "#ed7953"
             ],
             [
              0.7777777777777778,
              "#fb9f3a"
             ],
             [
              0.8888888888888888,
              "#fdca26"
             ],
             [
              1,
              "#f0f921"
             ]
            ],
            "type": "contour"
           }
          ],
          "contourcarpet": [
           {
            "colorbar": {
             "outlinewidth": 0,
             "ticks": ""
            },
            "type": "contourcarpet"
           }
          ],
          "heatmap": [
           {
            "colorbar": {
             "outlinewidth": 0,
             "ticks": ""
            },
            "colorscale": [
             [
              0,
              "#0d0887"
             ],
             [
              0.1111111111111111,
              "#46039f"
             ],
             [
              0.2222222222222222,
              "#7201a8"
             ],
             [
              0.3333333333333333,
              "#9c179e"
             ],
             [
              0.4444444444444444,
              "#bd3786"
             ],
             [
              0.5555555555555556,
              "#d8576b"
             ],
             [
              0.6666666666666666,
              "#ed7953"
             ],
             [
              0.7777777777777778,
              "#fb9f3a"
             ],
             [
              0.8888888888888888,
              "#fdca26"
             ],
             [
              1,
              "#f0f921"
             ]
            ],
            "type": "heatmap"
           }
          ],
          "histogram": [
           {
            "marker": {
             "pattern": {
              "fillmode": "overlay",
              "size": 10,
              "solidity": 0.2
             }
            },
            "type": "histogram"
           }
          ],
          "histogram2d": [
           {
            "colorbar": {
             "outlinewidth": 0,
             "ticks": ""
            },
            "colorscale": [
             [
              0,
              "#0d0887"
             ],
             [
              0.1111111111111111,
              "#46039f"
             ],
             [
              0.2222222222222222,
              "#7201a8"
             ],
             [
              0.3333333333333333,
              "#9c179e"
             ],
             [
              0.4444444444444444,
              "#bd3786"
             ],
             [
              0.5555555555555556,
              "#d8576b"
             ],
             [
              0.6666666666666666,
              "#ed7953"
             ],
             [
              0.7777777777777778,
              "#fb9f3a"
             ],
             [
              0.8888888888888888,
              "#fdca26"
             ],
             [
              1,
              "#f0f921"
             ]
            ],
            "type": "histogram2d"
           }
          ],
          "histogram2dcontour": [
           {
            "colorbar": {
             "outlinewidth": 0,
             "ticks": ""
            },
            "colorscale": [
             [
              0,
              "#0d0887"
             ],
             [
              0.1111111111111111,
              "#46039f"
             ],
             [
              0.2222222222222222,
              "#7201a8"
             ],
             [
              0.3333333333333333,
              "#9c179e"
             ],
             [
              0.4444444444444444,
              "#bd3786"
             ],
             [
              0.5555555555555556,
              "#d8576b"
             ],
             [
              0.6666666666666666,
              "#ed7953"
             ],
             [
              0.7777777777777778,
              "#fb9f3a"
             ],
             [
              0.8888888888888888,
              "#fdca26"
             ],
             [
              1,
              "#f0f921"
             ]
            ],
            "type": "histogram2dcontour"
           }
          ],
          "mesh3d": [
           {
            "colorbar": {
             "outlinewidth": 0,
             "ticks": ""
            },
            "type": "mesh3d"
           }
          ],
          "parcoords": [
           {
            "line": {
             "colorbar": {
              "outlinewidth": 0,
              "ticks": ""
             }
            },
            "type": "parcoords"
           }
          ],
          "pie": [
           {
            "automargin": true,
            "type": "pie"
           }
          ],
          "scatter": [
           {
            "fillpattern": {
             "fillmode": "overlay",
             "size": 10,
             "solidity": 0.2
            },
            "type": "scatter"
           }
          ],
          "scatter3d": [
           {
            "line": {
             "colorbar": {
              "outlinewidth": 0,
              "ticks": ""
             }
            },
            "marker": {
             "colorbar": {
              "outlinewidth": 0,
              "ticks": ""
             }
            },
            "type": "scatter3d"
           }
          ],
          "scattercarpet": [
           {
            "marker": {
             "colorbar": {
              "outlinewidth": 0,
              "ticks": ""
             }
            },
            "type": "scattercarpet"
           }
          ],
          "scattergeo": [
           {
            "marker": {
             "colorbar": {
              "outlinewidth": 0,
              "ticks": ""
             }
            },
            "type": "scattergeo"
           }
          ],
          "scattergl": [
           {
            "marker": {
             "colorbar": {
              "outlinewidth": 0,
              "ticks": ""
             }
            },
            "type": "scattergl"
           }
          ],
          "scattermap": [
           {
            "marker": {
             "colorbar": {
              "outlinewidth": 0,
              "ticks": ""
             }
            },
            "type": "scattermap"
           }
          ],
          "scattermapbox": [
           {
            "marker": {
             "colorbar": {
              "outlinewidth": 0,
              "ticks": ""
             }
            },
            "type": "scattermapbox"
           }
          ],
          "scatterpolar": [
           {
            "marker": {
             "colorbar": {
              "outlinewidth": 0,
              "ticks": ""
             }
            },
            "type": "scatterpolar"
           }
          ],
          "scatterpolargl": [
           {
            "marker": {
             "colorbar": {
              "outlinewidth": 0,
              "ticks": ""
             }
            },
            "type": "scatterpolargl"
           }
          ],
          "scatterternary": [
           {
            "marker": {
             "colorbar": {
              "outlinewidth": 0,
              "ticks": ""
             }
            },
            "type": "scatterternary"
           }
          ],
          "surface": [
           {
            "colorbar": {
             "outlinewidth": 0,
             "ticks": ""
            },
            "colorscale": [
             [
              0,
              "#0d0887"
             ],
             [
              0.1111111111111111,
              "#46039f"
             ],
             [
              0.2222222222222222,
              "#7201a8"
             ],
             [
              0.3333333333333333,
              "#9c179e"
             ],
             [
              0.4444444444444444,
              "#bd3786"
             ],
             [
              0.5555555555555556,
              "#d8576b"
             ],
             [
              0.6666666666666666,
              "#ed7953"
             ],
             [
              0.7777777777777778,
              "#fb9f3a"
             ],
             [
              0.8888888888888888,
              "#fdca26"
             ],
             [
              1,
              "#f0f921"
             ]
            ],
            "type": "surface"
           }
          ],
          "table": [
           {
            "cells": {
             "fill": {
              "color": "#EBF0F8"
             },
             "line": {
              "color": "white"
             }
            },
            "header": {
             "fill": {
              "color": "#C8D4E3"
             },
             "line": {
              "color": "white"
             }
            },
            "type": "table"
           }
          ]
         },
         "layout": {
          "annotationdefaults": {
           "arrowcolor": "#2a3f5f",
           "arrowhead": 0,
           "arrowwidth": 1
          },
          "autotypenumbers": "strict",
          "coloraxis": {
           "colorbar": {
            "outlinewidth": 0,
            "ticks": ""
           }
          },
          "colorscale": {
           "diverging": [
            [
             0,
             "#8e0152"
            ],
            [
             0.1,
             "#c51b7d"
            ],
            [
             0.2,
             "#de77ae"
            ],
            [
             0.3,
             "#f1b6da"
            ],
            [
             0.4,
             "#fde0ef"
            ],
            [
             0.5,
             "#f7f7f7"
            ],
            [
             0.6,
             "#e6f5d0"
            ],
            [
             0.7,
             "#b8e186"
            ],
            [
             0.8,
             "#7fbc41"
            ],
            [
             0.9,
             "#4d9221"
            ],
            [
             1,
             "#276419"
            ]
           ],
           "sequential": [
            [
             0,
             "#0d0887"
            ],
            [
             0.1111111111111111,
             "#46039f"
            ],
            [
             0.2222222222222222,
             "#7201a8"
            ],
            [
             0.3333333333333333,
             "#9c179e"
            ],
            [
             0.4444444444444444,
             "#bd3786"
            ],
            [
             0.5555555555555556,
             "#d8576b"
            ],
            [
             0.6666666666666666,
             "#ed7953"
            ],
            [
             0.7777777777777778,
             "#fb9f3a"
            ],
            [
             0.8888888888888888,
             "#fdca26"
            ],
            [
             1,
             "#f0f921"
            ]
           ],
           "sequentialminus": [
            [
             0,
             "#0d0887"
            ],
            [
             0.1111111111111111,
             "#46039f"
            ],
            [
             0.2222222222222222,
             "#7201a8"
            ],
            [
             0.3333333333333333,
             "#9c179e"
            ],
            [
             0.4444444444444444,
             "#bd3786"
            ],
            [
             0.5555555555555556,
             "#d8576b"
            ],
            [
             0.6666666666666666,
             "#ed7953"
            ],
            [
             0.7777777777777778,
             "#fb9f3a"
            ],
            [
             0.8888888888888888,
             "#fdca26"
            ],
            [
             1,
             "#f0f921"
            ]
           ]
          },
          "colorway": [
           "#636efa",
           "#EF553B",
           "#00cc96",
           "#ab63fa",
           "#FFA15A",
           "#19d3f3",
           "#FF6692",
           "#B6E880",
           "#FF97FF",
           "#FECB52"
          ],
          "font": {
           "color": "#2a3f5f"
          },
          "geo": {
           "bgcolor": "white",
           "lakecolor": "white",
           "landcolor": "#E5ECF6",
           "showlakes": true,
           "showland": true,
           "subunitcolor": "white"
          },
          "hoverlabel": {
           "align": "left"
          },
          "hovermode": "closest",
          "mapbox": {
           "style": "light"
          },
          "paper_bgcolor": "white",
          "plot_bgcolor": "#E5ECF6",
          "polar": {
           "angularaxis": {
            "gridcolor": "white",
            "linecolor": "white",
            "ticks": ""
           },
           "bgcolor": "#E5ECF6",
           "radialaxis": {
            "gridcolor": "white",
            "linecolor": "white",
            "ticks": ""
           }
          },
          "scene": {
           "xaxis": {
            "backgroundcolor": "#E5ECF6",
            "gridcolor": "white",
            "gridwidth": 2,
            "linecolor": "white",
            "showbackground": true,
            "ticks": "",
            "zerolinecolor": "white"
           },
           "yaxis": {
            "backgroundcolor": "#E5ECF6",
            "gridcolor": "white",
            "gridwidth": 2,
            "linecolor": "white",
            "showbackground": true,
            "ticks": "",
            "zerolinecolor": "white"
           },
           "zaxis": {
            "backgroundcolor": "#E5ECF6",
            "gridcolor": "white",
            "gridwidth": 2,
            "linecolor": "white",
            "showbackground": true,
            "ticks": "",
            "zerolinecolor": "white"
           }
          },
          "shapedefaults": {
           "line": {
            "color": "#2a3f5f"
           }
          },
          "ternary": {
           "aaxis": {
            "gridcolor": "white",
            "linecolor": "white",
            "ticks": ""
           },
           "baxis": {
            "gridcolor": "white",
            "linecolor": "white",
            "ticks": ""
           },
           "bgcolor": "#E5ECF6",
           "caxis": {
            "gridcolor": "white",
            "linecolor": "white",
            "ticks": ""
           }
          },
          "title": {
           "x": 0.05
          },
          "xaxis": {
           "automargin": true,
           "gridcolor": "white",
           "linecolor": "white",
           "ticks": "",
           "title": {
            "standoff": 15
           },
           "zerolinecolor": "white",
           "zerolinewidth": 2
          },
          "yaxis": {
           "automargin": true,
           "gridcolor": "white",
           "linecolor": "white",
           "ticks": "",
           "title": {
            "standoff": 15
           },
           "zerolinecolor": "white",
           "zerolinewidth": 2
          }
         }
        },
        "width": 1200,
        "xaxis": {
         "anchor": "y",
         "domain": [
          0,
          1
         ],
         "title": {
          "text": "CreditScore"
         }
        },
        "yaxis": {
         "anchor": "x",
         "domain": [
          0,
          1
         ],
         "title": {
          "text": "EstimatedSalary"
         }
        }
       }
      }
     },
     "metadata": {},
     "output_type": "display_data"
    }
   ],
   "source": [
    "fig = px.scatter(\n",
    "    data_frame=churn_data, \n",
    "    x = 'CreditScore', \n",
    "    y = 'EstimatedSalary', \n",
    "    color='Exited', \n",
    "    width=1200,\n",
    "    height=600\n",
    ")\n",
    "fig.show()\n"
   ]
  },
  {
   "cell_type": "markdown",
   "id": "e143a107",
   "metadata": {},
   "source": [
    "Из представленных данных отчетливо видно, что максимальный кредитный рейтинг лояльных клиентов присвоен всем категориям доходности (отчетливая вертикальная полоса вдоль рейтинга 850), однако про ушедших клиентов такое сказать невозможно, отчетливо видно, что ушли клиенты с высоким уровнем дохода, которые не получили кредитный рейтинг выше 400 (лояльных клиентов в зоне ниже 400 нет).\n",
    "\n",
    "Основная масса клиентов, вне зависимости от лояльности, сконцентрирована в диапазоне рейтинга со значениями 520-750.\n",
    "\n",
    "Возможно, в банке установлена несовершенная система определения кредитного рейтинга (на это указывает явное отсутствие ранжирования клиентов по уровню дохода), которая не позволяет объективно определить платежеспособность клиентов, в связи с чем платежеспособные клиенты не получают достаточного кредитного обеспечения."
   ]
  },
  {
   "cell_type": "markdown",
   "id": "9673bdce",
   "metadata": {},
   "source": [
    "9.6. Кто чаще уходит, мужчины или женщины? Постройте график, который иллюстрирует это."
   ]
  },
  {
   "cell_type": "code",
   "execution_count": 21,
   "id": "af559a9f",
   "metadata": {},
   "outputs": [
    {
     "data": {
      "text/plain": [
       "Text(0.5, 1.0, 'Соотношение ушедших и лояльных \\n клиентов женщины')"
      ]
     },
     "execution_count": 21,
     "metadata": {},
     "output_type": "execute_result"
    },
    {
     "data": {
      "image/png": "[encoded data removed]",
      "text/plain": [
       "<Figure size 1500x700 with 2 Axes>"
      ]
     },
     "metadata": {},
     "output_type": "display_data"
    }
   ],
   "source": [
    "fig, axes = plt.subplots(nrows=1, ncols=2, figsize=(15, 7))\n",
    "\n",
    "\n",
    "axes[0].pie(\n",
    "    churn_data[churn_data['Gender']=='Male']['Exited'].value_counts(),\n",
    "    labels=['Лояльные клиенты', 'Клиентов ушло'],\n",
    "    autopct='%.1f%%',\n",
    "    labeldistance = 0.2,\n",
    "    \n",
    "    explode = [0.1, 0]\n",
    ");\n",
    "axes[0].set_title('Соотношение ушедших и лояльных \\n клиентов мужчины', fontsize=16)\n",
    "\n",
    "axes[1].pie(\n",
    "    churn_data[churn_data['Gender']=='Female']['Exited'].value_counts(),\n",
    "    labels=['Лояльные клиенты', 'Клиентов ушло'],\n",
    "    autopct='%.1f%%',\n",
    "    labeldistance = 0.2,\n",
    "    \n",
    "    explode = [0.1, 0]\n",
    ");\n",
    "axes[1].set_title('Соотношение ушедших и лояльных \\n клиентов женщины', fontsize=16)"
   ]
  },
  {
   "cell_type": "markdown",
   "id": "74c64eb6",
   "metadata": {},
   "source": [
    "Из графика видно, что всего 16,5% клиентов-мужчин уходит, однако женщин в этом показателе значительно больше - 25,1%."
   ]
  },
  {
   "cell_type": "code",
   "execution_count": 23,
   "id": "6055cae1",
   "metadata": {},
   "outputs": [
    {
     "data": {
      "image/png": "[encoded data removed]",
      "text/plain": [
       "<Figure size 1000x700 with 1 Axes>"
      ]
     },
     "metadata": {},
     "output_type": "display_data"
    }
   ],
   "source": [
    "churn_data = pd.read_csv('churn.csv')\n",
    "fig = plt.figure(figsize=(10, 7))\n",
    "barplot = sns.barplot(\n",
    "    data=churn_data,\n",
    "    x='Gender',\n",
    "    y='Exited'\n",
    ")\n",
    "barplot.set_title('Соотношение процента уходящих мужчин и женщин');"
   ]
  },
  {
   "cell_type": "markdown",
   "id": "170962f6",
   "metadata": {},
   "source": [
    "9.7. Как отток клиентов зависит от числа приобретённых у банка услуг? Для ответа на этот вопрос постройте многоуровневую столбчатую диаграмму."
   ]
  },
  {
   "cell_type": "code",
   "execution_count": 24,
   "id": "6d94056b",
   "metadata": {},
   "outputs": [],
   "source": [
    "grouped_row = churn_data.groupby(['NumOfProducts', 'Exited'], as_index=False)['CustomerId'].count()"
   ]
  },
  {
   "cell_type": "code",
   "execution_count": 25,
   "id": "da7ac758",
   "metadata": {},
   "outputs": [
    {
     "name": "stderr",
     "output_type": "stream",
     "text": [
      "C:\\Users\\HP\\AppData\\Local\\Temp\\ipykernel_1352\\1980340013.py:5: FutureWarning:\n",
      "\n",
      "ChainedAssignmentError: behaviour will change in pandas 3.0!\n",
      "You are setting values through chained assignment. Currently this works in certain cases, but when using Copy-on-Write (which will become the default behaviour in pandas 3.0) this will never work to update the original DataFrame or Series, because the intermediate object on which we are setting values will behave as a copy.\n",
      "A typical example is when you are setting values in a column of a DataFrame, like:\n",
      "\n",
      "df[\"col\"][row_indexer] = value\n",
      "\n",
      "Use `df.loc[row_indexer, \"col\"] = values` instead, to perform the assignment in a single step and ensure this keeps updating the original `df`.\n",
      "\n",
      "See the caveats in the documentation: https://pandas.pydata.org/pandas-docs/stable/user_guide/indexing.html#returning-a-view-versus-a-copy\n",
      "\n",
      "\n",
      "C:\\Users\\HP\\AppData\\Local\\Temp\\ipykernel_1352\\1980340013.py:5: FutureWarning:\n",
      "\n",
      "Setting an item of incompatible dtype is deprecated and will raise an error in a future version of pandas. Value 'Лояльный клиент' has dtype incompatible with int64, please explicitly cast to a compatible dtype first.\n",
      "\n"
     ]
    }
   ],
   "source": [
    "for i in range(len(grouped_row['Exited'])):\n",
    "    if grouped_row['Exited'][i] == 1:\n",
    "        grouped_row['Exited'][i] = 'Клиент ушёл'\n",
    "    else:\n",
    "        grouped_row['Exited'][i] = 'Лояльный клиент'"
   ]
  },
  {
   "cell_type": "code",
   "execution_count": 26,
   "id": "01b2f977",
   "metadata": {},
   "outputs": [
    {
     "data": {
      "application/vnd.plotly.v1+json": {
       "config": {
        "plotlyServerURL": "https://plot.ly"
       },
       "data": [
        {
         "alignmentgroup": "True",
         "hovertemplate": "Exited=Лояльный клиент<br>NumOfProducts=%{x}<br>CustomerId=%{y}<extra></extra>",
         "legendgroup": "Лояльный клиент",
         "marker": {
          "color": "#636efa",
          "pattern": {
           "shape": ""
          }
         },
         "name": "Лояльный клиент",
         "offsetgroup": "Лояльный клиент",
         "orientation": "v",
         "showlegend": true,
         "textposition": "auto",
         "type": "bar",
         "x": {
          "bdata": "AQID",
          "dtype": "i1"
         },
         "xaxis": "x",
         "y": {
          "bdata": "Ww6SEC4A",
          "dtype": "i2"
         },
         "yaxis": "y"
        },
        {
         "alignmentgroup": "True",
         "hovertemplate": "Exited=Клиент ушёл<br>NumOfProducts=%{x}<br>CustomerId=%{y}<extra></extra>",
         "legendgroup": "Клиент ушёл",
         "marker": {
          "color": "#EF553B",
          "pattern": {
           "shape": ""
          }
         },
         "name": "Клиент ушёл",
         "offsetgroup": "Клиент ушёл",
         "orientation": "v",
         "showlegend": true,
         "textposition": "auto",
         "type": "bar",
         "x": {
          "bdata": "AQIDBA==",
          "dtype": "i1"
         },
         "xaxis": "x",
         "y": {
          "bdata": "gQVcAdwAPAA=",
          "dtype": "i2"
         },
         "yaxis": "y"
        }
       ],
       "layout": {
        "barmode": "group",
        "height": 500,
        "legend": {
         "title": {
          "text": "Exited"
         },
         "tracegroupgap": 0
        },
        "template": {
         "data": {
          "bar": [
           {
            "error_x": {
             "color": "#2a3f5f"
            },
            "error_y": {
             "color": "#2a3f5f"
            },
            "marker": {
             "line": {
              "color": "#E5ECF6",
              "width": 0.5
             },
             "pattern": {
              "fillmode": "overlay",
              "size": 10,
              "solidity": 0.2
             }
            },
            "type": "bar"
           }
          ],
          "barpolar": [
           {
            "marker": {
             "line": {
              "color": "#E5ECF6",
              "width": 0.5
             },
             "pattern": {
              "fillmode": "overlay",
              "size": 10,
              "solidity": 0.2
             }
            },
            "type": "barpolar"
           }
          ],
          "carpet": [
           {
            "aaxis": {
             "endlinecolor": "#2a3f5f",
             "gridcolor": "white",
             "linecolor": "white",
             "minorgridcolor": "white",
             "startlinecolor": "#2a3f5f"
            },
            "baxis": {
             "endlinecolor": "#2a3f5f",
             "gridcolor": "white",
             "linecolor": "white",
             "minorgridcolor": "white",
             "startlinecolor": "#2a3f5f"
            },
            "type": "carpet"
           }
          ],
          "choropleth": [
           {
            "colorbar": {
             "outlinewidth": 0,
             "ticks": ""
            },
            "type": "choropleth"
           }
          ],
          "contour": [
           {
            "colorbar": {
             "outlinewidth": 0,
             "ticks": ""
            },
            "colorscale": [
             [
              0,
              "#0d0887"
             ],
             [
              0.1111111111111111,
              "#46039f"
             ],
             [
              0.2222222222222222,
              "#7201a8"
             ],
             [
              0.3333333333333333,
              "#9c179e"
             ],
             [
              0.4444444444444444,
              "#bd3786"
             ],
             [
              0.5555555555555556,
              "#d8576b"
             ],
             [
              0.6666666666666666,
              "#ed7953"
             ],
             [
              0.7777777777777778,
              "#fb9f3a"
             ],
             [
              0.8888888888888888,
              "#fdca26"
             ],
             [
              1,
              "#f0f921"
             ]
            ],
            "type": "contour"
           }
          ],
          "contourcarpet": [
           {
            "colorbar": {
             "outlinewidth": 0,
             "ticks": ""
            },
            "type": "contourcarpet"
           }
          ],
          "heatmap": [
           {
            "colorbar": {
             "outlinewidth": 0,
             "ticks": ""
            },
            "colorscale": [
             [
              0,
              "#0d0887"
             ],
             [
              0.1111111111111111,
              "#46039f"
             ],
             [
              0.2222222222222222,
              "#7201a8"
             ],
             [
              0.3333333333333333,
              "#9c179e"
             ],
             [
              0.4444444444444444,
              "#bd3786"
             ],
             [
              0.5555555555555556,
              "#d8576b"
             ],
             [
              0.6666666666666666,
              "#ed7953"
             ],
             [
              0.7777777777777778,
              "#fb9f3a"
             ],
             [
              0.8888888888888888,
              "#fdca26"
             ],
             [
              1,
              "#f0f921"
             ]
            ],
            "type": "heatmap"
           }
          ],
          "histogram": [
           {
            "marker": {
             "pattern": {
              "fillmode": "overlay",
              "size": 10,
              "solidity": 0.2
             }
            },
            "type": "histogram"
           }
          ],
          "histogram2d": [
           {
            "colorbar": {
             "outlinewidth": 0,
             "ticks": ""
            },
            "colorscale": [
             [
              0,
              "#0d0887"
             ],
             [
              0.1111111111111111,
              "#46039f"
             ],
             [
              0.2222222222222222,
              "#7201a8"
             ],
             [
              0.3333333333333333,
              "#9c179e"
             ],
             [
              0.4444444444444444,
              "#bd3786"
             ],
             [
              0.5555555555555556,
              "#d8576b"
             ],
             [
              0.6666666666666666,
              "#ed7953"
             ],
             [
              0.7777777777777778,
              "#fb9f3a"
             ],
             [
              0.8888888888888888,
              "#fdca26"
             ],
             [
              1,
              "#f0f921"
             ]
            ],
            "type": "histogram2d"
           }
          ],
          "histogram2dcontour": [
           {
            "colorbar": {
             "outlinewidth": 0,
             "ticks": ""
            },
            "colorscale": [
             [
              0,
              "#0d0887"
             ],
             [
              0.1111111111111111,
              "#46039f"
             ],
             [
              0.2222222222222222,
              "#7201a8"
             ],
             [
              0.3333333333333333,
              "#9c179e"
             ],
             [
              0.4444444444444444,
              "#bd3786"
             ],
             [
              0.5555555555555556,
              "#d8576b"
             ],
             [
              0.6666666666666666,
              "#ed7953"
             ],
             [
              0.7777777777777778,
              "#fb9f3a"
             ],
             [
              0.8888888888888888,
              "#fdca26"
             ],
             [
              1,
              "#f0f921"
             ]
            ],
            "type": "histogram2dcontour"
           }
          ],
          "mesh3d": [
           {
            "colorbar": {
             "outlinewidth": 0,
             "ticks": ""
            },
            "type": "mesh3d"
           }
          ],
          "parcoords": [
           {
            "line": {
             "colorbar": {
              "outlinewidth": 0,
              "ticks": ""
             }
            },
            "type": "parcoords"
           }
          ],
          "pie": [
           {
            "automargin": true,
            "type": "pie"
           }
          ],
          "scatter": [
           {
            "fillpattern": {
             "fillmode": "overlay",
             "size": 10,
             "solidity": 0.2
            },
            "type": "scatter"
           }
          ],
          "scatter3d": [
           {
            "line": {
             "colorbar": {
              "outlinewidth": 0,
              "ticks": ""
             }
            },
            "marker": {
             "colorbar": {
              "outlinewidth": 0,
              "ticks": ""
             }
            },
            "type": "scatter3d"
           }
          ],
          "scattercarpet": [
           {
            "marker": {
             "colorbar": {
              "outlinewidth": 0,
              "ticks": ""
             }
            },
            "type": "scattercarpet"
           }
          ],
          "scattergeo": [
           {
            "marker": {
             "colorbar": {
              "outlinewidth": 0,
              "ticks": ""
             }
            },
            "type": "scattergeo"
           }
          ],
          "scattergl": [
           {
            "marker": {
             "colorbar": {
              "outlinewidth": 0,
              "ticks": ""
             }
            },
            "type": "scattergl"
           }
          ],
          "scattermap": [
           {
            "marker": {
             "colorbar": {
              "outlinewidth": 0,
              "ticks": ""
             }
            },
            "type": "scattermap"
           }
          ],
          "scattermapbox": [
           {
            "marker": {
             "colorbar": {
              "outlinewidth": 0,
              "ticks": ""
             }
            },
            "type": "scattermapbox"
           }
          ],
          "scatterpolar": [
           {
            "marker": {
             "colorbar": {
              "outlinewidth": 0,
              "ticks": ""
             }
            },
            "type": "scatterpolar"
           }
          ],
          "scatterpolargl": [
           {
            "marker": {
             "colorbar": {
              "outlinewidth": 0,
              "ticks": ""
             }
            },
            "type": "scatterpolargl"
           }
          ],
          "scatterternary": [
           {
            "marker": {
             "colorbar": {
              "outlinewidth": 0,
              "ticks": ""
             }
            },
            "type": "scatterternary"
           }
          ],
          "surface": [
           {
            "colorbar": {
             "outlinewidth": 0,
             "ticks": ""
            },
            "colorscale": [
             [
              0,
              "#0d0887"
             ],
             [
              0.1111111111111111,
              "#46039f"
             ],
             [
              0.2222222222222222,
              "#7201a8"
             ],
             [
              0.3333333333333333,
              "#9c179e"
             ],
             [
              0.4444444444444444,
              "#bd3786"
             ],
             [
              0.5555555555555556,
              "#d8576b"
             ],
             [
              0.6666666666666666,
              "#ed7953"
             ],
             [
              0.7777777777777778,
              "#fb9f3a"
             ],
             [
              0.8888888888888888,
              "#fdca26"
             ],
             [
              1,
              "#f0f921"
             ]
            ],
            "type": "surface"
           }
          ],
          "table": [
           {
            "cells": {
             "fill": {
              "color": "#EBF0F8"
             },
             "line": {
              "color": "white"
             }
            },
            "header": {
             "fill": {
              "color": "#C8D4E3"
             },
             "line": {
              "color": "white"
             }
            },
            "type": "table"
           }
          ]
         },
         "layout": {
          "annotationdefaults": {
           "arrowcolor": "#2a3f5f",
           "arrowhead": 0,
           "arrowwidth": 1
          },
          "autotypenumbers": "strict",
          "coloraxis": {
           "colorbar": {
            "outlinewidth": 0,
            "ticks": ""
           }
          },
          "colorscale": {
           "diverging": [
            [
             0,
             "#8e0152"
            ],
            [
             0.1,
             "#c51b7d"
            ],
            [
             0.2,
             "#de77ae"
            ],
            [
             0.3,
             "#f1b6da"
            ],
            [
             0.4,
             "#fde0ef"
            ],
            [
             0.5,
             "#f7f7f7"
            ],
            [
             0.6,
             "#e6f5d0"
            ],
            [
             0.7,
             "#b8e186"
            ],
            [
             0.8,
             "#7fbc41"
            ],
            [
             0.9,
             "#4d9221"
            ],
            [
             1,
             "#276419"
            ]
           ],
           "sequential": [
            [
             0,
             "#0d0887"
            ],
            [
             0.1111111111111111,
             "#46039f"
            ],
            [
             0.2222222222222222,
             "#7201a8"
            ],
            [
             0.3333333333333333,
             "#9c179e"
            ],
            [
             0.4444444444444444,
             "#bd3786"
            ],
            [
             0.5555555555555556,
             "#d8576b"
            ],
            [
             0.6666666666666666,
             "#ed7953"
            ],
            [
             0.7777777777777778,
             "#fb9f3a"
            ],
            [
             0.8888888888888888,
             "#fdca26"
            ],
            [
             1,
             "#f0f921"
            ]
           ],
           "sequentialminus": [
            [
             0,
             "#0d0887"
            ],
            [
             0.1111111111111111,
             "#46039f"
            ],
            [
             0.2222222222222222,
             "#7201a8"
            ],
            [
             0.3333333333333333,
             "#9c179e"
            ],
            [
             0.4444444444444444,
             "#bd3786"
            ],
            [
             0.5555555555555556,
             "#d8576b"
            ],
            [
             0.6666666666666666,
             "#ed7953"
            ],
            [
             0.7777777777777778,
             "#fb9f3a"
            ],
            [
             0.8888888888888888,
             "#fdca26"
            ],
            [
             1,
             "#f0f921"
            ]
           ]
          },
          "colorway": [
           "#636efa",
           "#EF553B",
           "#00cc96",
           "#ab63fa",
           "#FFA15A",
           "#19d3f3",
           "#FF6692",
           "#B6E880",
           "#FF97FF",
           "#FECB52"
          ],
          "font": {
           "color": "#2a3f5f"
          },
          "geo": {
           "bgcolor": "white",
           "lakecolor": "white",
           "landcolor": "#E5ECF6",
           "showlakes": true,
           "showland": true,
           "subunitcolor": "white"
          },
          "hoverlabel": {
           "align": "left"
          },
          "hovermode": "closest",
          "mapbox": {
           "style": "light"
          },
          "paper_bgcolor": "white",
          "plot_bgcolor": "#E5ECF6",
          "polar": {
           "angularaxis": {
            "gridcolor": "white",
            "linecolor": "white",
            "ticks": ""
           },
           "bgcolor": "#E5ECF6",
           "radialaxis": {
            "gridcolor": "white",
            "linecolor": "white",
            "ticks": ""
           }
          },
          "scene": {
           "xaxis": {
            "backgroundcolor": "#E5ECF6",
            "gridcolor": "white",
            "gridwidth": 2,
            "linecolor": "white",
            "showbackground": true,
            "ticks": "",
            "zerolinecolor": "white"
           },
           "yaxis": {
            "backgroundcolor": "#E5ECF6",
            "gridcolor": "white",
            "gridwidth": 2,
            "linecolor": "white",
            "showbackground": true,
            "ticks": "",
            "zerolinecolor": "white"
           },
           "zaxis": {
            "backgroundcolor": "#E5ECF6",
            "gridcolor": "white",
            "gridwidth": 2,
            "linecolor": "white",
            "showbackground": true,
            "ticks": "",
            "zerolinecolor": "white"
           }
          },
          "shapedefaults": {
           "line": {
            "color": "#2a3f5f"
           }
          },
          "ternary": {
           "aaxis": {
            "gridcolor": "white",
            "linecolor": "white",
            "ticks": ""
           },
           "baxis": {
            "gridcolor": "white",
            "linecolor": "white",
            "ticks": ""
           },
           "bgcolor": "#E5ECF6",
           "caxis": {
            "gridcolor": "white",
            "linecolor": "white",
            "ticks": ""
           }
          },
          "title": {
           "x": 0.05
          },
          "xaxis": {
           "automargin": true,
           "gridcolor": "white",
           "linecolor": "white",
           "ticks": "",
           "title": {
            "standoff": 15
           },
           "zerolinecolor": "white",
           "zerolinewidth": 2
          },
          "yaxis": {
           "automargin": true,
           "gridcolor": "white",
           "linecolor": "white",
           "ticks": "",
           "title": {
            "standoff": 15
           },
           "zerolinecolor": "white",
           "zerolinewidth": 2
          }
         }
        },
        "title": {
         "text": "Зависимость оттока от числа приобретенных услуг"
        },
        "width": 1000,
        "xaxis": {
         "anchor": "y",
         "domain": [
          0,
          1
         ],
         "title": {
          "text": "NumOfProducts"
         }
        },
        "yaxis": {
         "anchor": "x",
         "domain": [
          0,
          1
         ],
         "title": {
          "text": "CustomerId"
         }
        }
       }
      }
     },
     "metadata": {},
     "output_type": "display_data"
    }
   ],
   "source": [
    "fig = px.bar(\n",
    "    data_frame=grouped_row, \n",
    "    x=\"NumOfProducts\", \n",
    "    y=\"CustomerId\", \n",
    "    color='Exited', \n",
    "    orientation='v', \n",
    "    height=500, \n",
    "    width=1000, \n",
    "    title='Зависимость оттока от числа приобретенных услуг', \n",
    "    barmode = 'group',\n",
    ")\n",
    "fig.show()"
   ]
  },
  {
   "cell_type": "markdown",
   "id": "887731d9",
   "metadata": {},
   "source": [
    "Из графика видно, что основная часть клиентов банка уходит, получив всего лишь 1 продукт, следовательно либо клиентов не устраивает качество получаемого продукта, либо банк не удовлетворяет потребности клиентов в других продуктах, а именно:\n",
    "1. Возможно другие продукты не конкурентноспособные и их условия не устраивают клиентов;\n",
    "2. Возможно отдел продаж некачественно информирует клиентов о существовании других продуктов."
   ]
  },
  {
   "cell_type": "markdown",
   "id": "dbbabc7e",
   "metadata": {},
   "source": [
    "Однако, судя по тому, что анализ проводится по клиентам, имеющим депозитные счета (что в свою очередь является продуктом банка), а также опираясь на анализ выше, можно сделать вывод: в основном ушли клиенты инвестировавшие свободные средства в депозиты, следовательно условия по депозитам не привлекательны для инвесторов."
   ]
  },
  {
   "cell_type": "markdown",
   "id": "85d9f27e",
   "metadata": {},
   "source": [
    "9.8. Как влияет наличие статуса активного клиента на отток клиентов? Постройте диаграмму, иллюстрирующую это. Что бы вы предложили банку, чтобы уменьшить отток клиентов среди неактивных?"
   ]
  },
  {
   "cell_type": "code",
   "execution_count": 27,
   "id": "c15aeb77",
   "metadata": {},
   "outputs": [],
   "source": [
    "a_e = churn_data.groupby('IsActiveMember', as_index=False)['Exited'].mean()\n",
    "a_e['IsActiveMember'] = ['Неактивные клиенты', 'Активные клиенты']"
   ]
  },
  {
   "cell_type": "code",
   "execution_count": 28,
   "id": "72b6a6f0",
   "metadata": {},
   "outputs": [
    {
     "data": {
      "text/plain": [
       "Text(0, 0.5, 'Процент ушедших')"
      ]
     },
     "execution_count": 28,
     "metadata": {},
     "output_type": "execute_result"
    },
    {
     "data": {
      "image/png": "[encoded data removed]",
      "text/plain": [
       "<Figure size 1000x700 with 1 Axes>"
      ]
     },
     "metadata": {},
     "output_type": "display_data"
    }
   ],
   "source": [
    "fig = plt.figure(figsize=(10, 7))\n",
    "barplot = sns.barplot(\n",
    "    data = a_e,\n",
    "    x = 'IsActiveMember',\n",
    "    y = 'Exited',\n",
    ")\n",
    "barplot.set_title('Соотношение процента уходящих активных и неактивных клиентов');\n",
    "barplot.set_xlabel('Активность клиентов')\n",
    "barplot.set_ylabel('Процент ушедших')\n"
   ]
  },
  {
   "cell_type": "markdown",
   "id": "70401612",
   "metadata": {},
   "source": [
    "Из сравнения видно, что доля ушедших неактивных клиентов выше в 2 раза, чем активных клиентов.\n",
    "Предположим, что статус активного клиента банк устанавливает клиентам, у которых активно совершаются операции по счетам, тогда данный показатель подтверждает выдвинутую ранее гипотезу, что из банка уходят клиенты размещающие свои средства в виде вкладов на долгосрочный период с целью получения процентного дохода.\n",
    "Следовательно условия по вкладам не удовлетворяют клиентов"
   ]
  },
  {
   "cell_type": "markdown",
   "id": "26e9ad33",
   "metadata": {},
   "source": [
    "9.9. В какой стране доля ушедших клиентов больше? Постройте тепловую картограмму, которая покажет это соотношение на карте мира. Предположите, с чем это может быть связано."
   ]
  },
  {
   "cell_type": "code",
   "execution_count": 29,
   "id": "9455920c",
   "metadata": {},
   "outputs": [
    {
     "data": {
      "application/vnd.plotly.v1+json": {
       "config": {
        "plotlyServerURL": "https://plot.ly"
       },
       "data": [
        {
         "coloraxis": "coloraxis",
         "geo": "geo",
         "hovertemplate": "Geography=%{location}<br>Exited=%{z}<extra></extra>",
         "locationmode": "country names",
         "locations": [
          "France",
          "Germany",
          "Spain"
         ],
         "name": "",
         "type": "choropleth",
         "z": {
          "bdata": "zvFADJitxD9EA2CffsPUP35iQ8SJV8U/",
          "dtype": "f8"
         }
        }
       ],
       "layout": {
        "coloraxis": {
         "cmax": 0.4,
         "cmin": 0,
         "colorbar": {
          "title": {
           "text": "Exited"
          }
         },
         "colorscale": [
          [
           0,
           "rgb(255,245,240)"
          ],
          [
           0.125,
           "rgb(254,224,210)"
          ],
          [
           0.25,
           "rgb(252,187,161)"
          ],
          [
           0.375,
           "rgb(252,146,114)"
          ],
          [
           0.5,
           "rgb(251,106,74)"
          ],
          [
           0.625,
           "rgb(239,59,44)"
          ],
          [
           0.75,
           "rgb(203,24,29)"
          ],
          [
           0.875,
           "rgb(165,15,21)"
          ],
          [
           1,
           "rgb(103,0,13)"
          ]
         ]
        },
        "geo": {
         "center": {},
         "domain": {
          "x": [
           0,
           1
          ],
          "y": [
           0,
           1
          ]
         }
        },
        "height": 500,
        "legend": {
         "tracegroupgap": 0
        },
        "template": {
         "data": {
          "bar": [
           {
            "error_x": {
             "color": "#2a3f5f"
            },
            "error_y": {
             "color": "#2a3f5f"
            },
            "marker": {
             "line": {
              "color": "#E5ECF6",
              "width": 0.5
             },
             "pattern": {
              "fillmode": "overlay",
              "size": 10,
              "solidity": 0.2
             }
            },
            "type": "bar"
           }
          ],
          "barpolar": [
           {
            "marker": {
             "line": {
              "color": "#E5ECF6",
              "width": 0.5
             },
             "pattern": {
              "fillmode": "overlay",
              "size": 10,
              "solidity": 0.2
             }
            },
            "type": "barpolar"
           }
          ],
          "carpet": [
           {
            "aaxis": {
             "endlinecolor": "#2a3f5f",
             "gridcolor": "white",
             "linecolor": "white",
             "minorgridcolor": "white",
             "startlinecolor": "#2a3f5f"
            },
            "baxis": {
             "endlinecolor": "#2a3f5f",
             "gridcolor": "white",
             "linecolor": "white",
             "minorgridcolor": "white",
             "startlinecolor": "#2a3f5f"
            },
            "type": "carpet"
           }
          ],
          "choropleth": [
           {
            "colorbar": {
             "outlinewidth": 0,
             "ticks": ""
            },
            "type": "choropleth"
           }
          ],
          "contour": [
           {
            "colorbar": {
             "outlinewidth": 0,
             "ticks": ""
            },
            "colorscale": [
             [
              0,
              "#0d0887"
             ],
             [
              0.1111111111111111,
              "#46039f"
             ],
             [
              0.2222222222222222,
              "#7201a8"
             ],
             [
              0.3333333333333333,
              "#9c179e"
             ],
             [
              0.4444444444444444,
              "#bd3786"
             ],
             [
              0.5555555555555556,
              "#d8576b"
             ],
             [
              0.6666666666666666,
              "#ed7953"
             ],
             [
              0.7777777777777778,
              "#fb9f3a"
             ],
             [
              0.8888888888888888,
              "#fdca26"
             ],
             [
              1,
              "#f0f921"
             ]
            ],
            "type": "contour"
           }
          ],
          "contourcarpet": [
           {
            "colorbar": {
             "outlinewidth": 0,
             "ticks": ""
            },
            "type": "contourcarpet"
           }
          ],
          "heatmap": [
           {
            "colorbar": {
             "outlinewidth": 0,
             "ticks": ""
            },
            "colorscale": [
             [
              0,
              "#0d0887"
             ],
             [
              0.1111111111111111,
              "#46039f"
             ],
             [
              0.2222222222222222,
              "#7201a8"
             ],
             [
              0.3333333333333333,
              "#9c179e"
             ],
             [
              0.4444444444444444,
              "#bd3786"
             ],
             [
              0.5555555555555556,
              "#d8576b"
             ],
             [
              0.6666666666666666,
              "#ed7953"
             ],
             [
              0.7777777777777778,
              "#fb9f3a"
             ],
             [
              0.8888888888888888,
              "#fdca26"
             ],
             [
              1,
              "#f0f921"
             ]
            ],
            "type": "heatmap"
           }
          ],
          "histogram": [
           {
            "marker": {
             "pattern": {
              "fillmode": "overlay",
              "size": 10,
              "solidity": 0.2
             }
            },
            "type": "histogram"
           }
          ],
          "histogram2d": [
           {
            "colorbar": {
             "outlinewidth": 0,
             "ticks": ""
            },
            "colorscale": [
             [
              0,
              "#0d0887"
             ],
             [
              0.1111111111111111,
              "#46039f"
             ],
             [
              0.2222222222222222,
              "#7201a8"
             ],
             [
              0.3333333333333333,
              "#9c179e"
             ],
             [
              0.4444444444444444,
              "#bd3786"
             ],
             [
              0.5555555555555556,
              "#d8576b"
             ],
             [
              0.6666666666666666,
              "#ed7953"
             ],
             [
              0.7777777777777778,
              "#fb9f3a"
             ],
             [
              0.8888888888888888,
              "#fdca26"
             ],
             [
              1,
              "#f0f921"
             ]
            ],
            "type": "histogram2d"
           }
          ],
          "histogram2dcontour": [
           {
            "colorbar": {
             "outlinewidth": 0,
             "ticks": ""
            },
            "colorscale": [
             [
              0,
              "#0d0887"
             ],
             [
              0.1111111111111111,
              "#46039f"
             ],
             [
              0.2222222222222222,
              "#7201a8"
             ],
             [
              0.3333333333333333,
              "#9c179e"
             ],
             [
              0.4444444444444444,
              "#bd3786"
             ],
             [
              0.5555555555555556,
              "#d8576b"
             ],
             [
              0.6666666666666666,
              "#ed7953"
             ],
             [
              0.7777777777777778,
              "#fb9f3a"
             ],
             [
              0.8888888888888888,
              "#fdca26"
             ],
             [
              1,
              "#f0f921"
             ]
            ],
            "type": "histogram2dcontour"
           }
          ],
          "mesh3d": [
           {
            "colorbar": {
             "outlinewidth": 0,
             "ticks": ""
            },
            "type": "mesh3d"
           }
          ],
          "parcoords": [
           {
            "line": {
             "colorbar": {
              "outlinewidth": 0,
              "ticks": ""
             }
            },
            "type": "parcoords"
           }
          ],
          "pie": [
           {
            "automargin": true,
            "type": "pie"
           }
          ],
          "scatter": [
           {
            "fillpattern": {
             "fillmode": "overlay",
             "size": 10,
             "solidity": 0.2
            },
            "type": "scatter"
           }
          ],
          "scatter3d": [
           {
            "line": {
             "colorbar": {
              "outlinewidth": 0,
              "ticks": ""
             }
            },
            "marker": {
             "colorbar": {
              "outlinewidth": 0,
              "ticks": ""
             }
            },
            "type": "scatter3d"
           }
          ],
          "scattercarpet": [
           {
            "marker": {
             "colorbar": {
              "outlinewidth": 0,
              "ticks": ""
             }
            },
            "type": "scattercarpet"
           }
          ],
          "scattergeo": [
           {
            "marker": {
             "colorbar": {
              "outlinewidth": 0,
              "ticks": ""
             }
            },
            "type": "scattergeo"
           }
          ],
          "scattergl": [
           {
            "marker": {
             "colorbar": {
              "outlinewidth": 0,
              "ticks": ""
             }
            },
            "type": "scattergl"
           }
          ],
          "scattermap": [
           {
            "marker": {
             "colorbar": {
              "outlinewidth": 0,
              "ticks": ""
             }
            },
            "type": "scattermap"
           }
          ],
          "scattermapbox": [
           {
            "marker": {
             "colorbar": {
              "outlinewidth": 0,
              "ticks": ""
             }
            },
            "type": "scattermapbox"
           }
          ],
          "scatterpolar": [
           {
            "marker": {
             "colorbar": {
              "outlinewidth": 0,
              "ticks": ""
             }
            },
            "type": "scatterpolar"
           }
          ],
          "scatterpolargl": [
           {
            "marker": {
             "colorbar": {
              "outlinewidth": 0,
              "ticks": ""
             }
            },
            "type": "scatterpolargl"
           }
          ],
          "scatterternary": [
           {
            "marker": {
             "colorbar": {
              "outlinewidth": 0,
              "ticks": ""
             }
            },
            "type": "scatterternary"
           }
          ],
          "surface": [
           {
            "colorbar": {
             "outlinewidth": 0,
             "ticks": ""
            },
            "colorscale": [
             [
              0,
              "#0d0887"
             ],
             [
              0.1111111111111111,
              "#46039f"
             ],
             [
              0.2222222222222222,
              "#7201a8"
             ],
             [
              0.3333333333333333,
              "#9c179e"
             ],
             [
              0.4444444444444444,
              "#bd3786"
             ],
             [
              0.5555555555555556,
              "#d8576b"
             ],
             [
              0.6666666666666666,
              "#ed7953"
             ],
             [
              0.7777777777777778,
              "#fb9f3a"
             ],
             [
              0.8888888888888888,
              "#fdca26"
             ],
             [
              1,
              "#f0f921"
             ]
            ],
            "type": "surface"
           }
          ],
          "table": [
           {
            "cells": {
             "fill": {
              "color": "#EBF0F8"
             },
             "line": {
              "color": "white"
             }
            },
            "header": {
             "fill": {
              "color": "#C8D4E3"
             },
             "line": {
              "color": "white"
             }
            },
            "type": "table"
           }
          ]
         },
         "layout": {
          "annotationdefaults": {
           "arrowcolor": "#2a3f5f",
           "arrowhead": 0,
           "arrowwidth": 1
          },
          "autotypenumbers": "strict",
          "coloraxis": {
           "colorbar": {
            "outlinewidth": 0,
            "ticks": ""
           }
          },
          "colorscale": {
           "diverging": [
            [
             0,
             "#8e0152"
            ],
            [
             0.1,
             "#c51b7d"
            ],
            [
             0.2,
             "#de77ae"
            ],
            [
             0.3,
             "#f1b6da"
            ],
            [
             0.4,
             "#fde0ef"
            ],
            [
             0.5,
             "#f7f7f7"
            ],
            [
             0.6,
             "#e6f5d0"
            ],
            [
             0.7,
             "#b8e186"
            ],
            [
             0.8,
             "#7fbc41"
            ],
            [
             0.9,
             "#4d9221"
            ],
            [
             1,
             "#276419"
            ]
           ],
           "sequential": [
            [
             0,
             "#0d0887"
            ],
            [
             0.1111111111111111,
             "#46039f"
            ],
            [
             0.2222222222222222,
             "#7201a8"
            ],
            [
             0.3333333333333333,
             "#9c179e"
            ],
            [
             0.4444444444444444,
             "#bd3786"
            ],
            [
             0.5555555555555556,
             "#d8576b"
            ],
            [
             0.6666666666666666,
             "#ed7953"
            ],
            [
             0.7777777777777778,
             "#fb9f3a"
            ],
            [
             0.8888888888888888,
             "#fdca26"
            ],
            [
             1,
             "#f0f921"
            ]
           ],
           "sequentialminus": [
            [
             0,
             "#0d0887"
            ],
            [
             0.1111111111111111,
             "#46039f"
            ],
            [
             0.2222222222222222,
             "#7201a8"
            ],
            [
             0.3333333333333333,
             "#9c179e"
            ],
            [
             0.4444444444444444,
             "#bd3786"
            ],
            [
             0.5555555555555556,
             "#d8576b"
            ],
            [
             0.6666666666666666,
             "#ed7953"
            ],
            [
             0.7777777777777778,
             "#fb9f3a"
            ],
            [
             0.8888888888888888,
             "#fdca26"
            ],
            [
             1,
             "#f0f921"
            ]
           ]
          },
          "colorway": [
           "#636efa",
           "#EF553B",
           "#00cc96",
           "#ab63fa",
           "#FFA15A",
           "#19d3f3",
           "#FF6692",
           "#B6E880",
           "#FF97FF",
           "#FECB52"
          ],
          "font": {
           "color": "#2a3f5f"
          },
          "geo": {
           "bgcolor": "white",
           "lakecolor": "white",
           "landcolor": "#E5ECF6",
           "showlakes": true,
           "showland": true,
           "subunitcolor": "white"
          },
          "hoverlabel": {
           "align": "left"
          },
          "hovermode": "closest",
          "mapbox": {
           "style": "light"
          },
          "paper_bgcolor": "white",
          "plot_bgcolor": "#E5ECF6",
          "polar": {
           "angularaxis": {
            "gridcolor": "white",
            "linecolor": "white",
            "ticks": ""
           },
           "bgcolor": "#E5ECF6",
           "radialaxis": {
            "gridcolor": "white",
            "linecolor": "white",
            "ticks": ""
           }
          },
          "scene": {
           "xaxis": {
            "backgroundcolor": "#E5ECF6",
            "gridcolor": "white",
            "gridwidth": 2,
            "linecolor": "white",
            "showbackground": true,
            "ticks": "",
            "zerolinecolor": "white"
           },
           "yaxis": {
            "backgroundcolor": "#E5ECF6",
            "gridcolor": "white",
            "gridwidth": 2,
            "linecolor": "white",
            "showbackground": true,
            "ticks": "",
            "zerolinecolor": "white"
           },
           "zaxis": {
            "backgroundcolor": "#E5ECF6",
            "gridcolor": "white",
            "gridwidth": 2,
            "linecolor": "white",
            "showbackground": true,
            "ticks": "",
            "zerolinecolor": "white"
           }
          },
          "shapedefaults": {
           "line": {
            "color": "#2a3f5f"
           }
          },
          "ternary": {
           "aaxis": {
            "gridcolor": "white",
            "linecolor": "white",
            "ticks": ""
           },
           "baxis": {
            "gridcolor": "white",
            "linecolor": "white",
            "ticks": ""
           },
           "bgcolor": "#E5ECF6",
           "caxis": {
            "gridcolor": "white",
            "linecolor": "white",
            "ticks": ""
           }
          },
          "title": {
           "x": 0.05
          },
          "xaxis": {
           "automargin": true,
           "gridcolor": "white",
           "linecolor": "white",
           "ticks": "",
           "title": {
            "standoff": 15
           },
           "zerolinecolor": "white",
           "zerolinewidth": 2
          },
          "yaxis": {
           "automargin": true,
           "gridcolor": "white",
           "linecolor": "white",
           "ticks": "",
           "title": {
            "standoff": 15
           },
           "zerolinecolor": "white",
           "zerolinewidth": 2
          }
         }
        },
        "title": {
         "text": "Global Spread of COVID-19"
        },
        "width": 800
       }
      }
     },
     "metadata": {},
     "output_type": "display_data"
    }
   ],
   "source": [
    "country_data = churn_data.groupby('Geography', as_index=False)['Exited'].mean()\n",
    "\n",
    "fig = px.choropleth(\n",
    "    data_frame=country_data, \n",
    "    locations=\"Geography\", \n",
    "    locationmode = \"country names\", \n",
    "    color=\"Exited\", \n",
    "    range_color=[0, 0.4],\n",
    "    title='Global Spread of COVID-19', \n",
    "    width=800, \n",
    "    height=500, \n",
    "    color_continuous_scale='Reds' \n",
    ")\n",
    "fig.show()"
   ]
  },
  {
   "cell_type": "markdown",
   "id": "84998d91",
   "metadata": {},
   "source": [
    "Из представленных данных видно, что клиенты проживающие в германии чаще всего покидают банк, судя по данным их внешних источников из представленных стран жители германии самые состоятельные, так ВВП на 1 человека в Германии составляет 46 тыс. долларов, во Франции 38тыс. долларов, и Испании 27 тыс. долларов.\n",
    "Что очередной раз подтверждает низкую инвестиционную привлекательность банка, банку следует пересмотреть условия вкладов"
   ]
  },
  {
   "cell_type": "markdown",
   "id": "ebbf88ee",
   "metadata": {},
   "source": [
    "9.10. Переведите числовой признак CreditScore в категориальный. Для этого воспользуйтесь функцией get_credit_score_cat(), которая приведена ниже. Примените её к столбцу CreditScore и создайте новый признак CreditScoreCat — категории кредитного рейтинга."
   ]
  },
  {
   "cell_type": "code",
   "execution_count": 30,
   "id": "57c82c4e",
   "metadata": {},
   "outputs": [],
   "source": [
    "def get_credit_score_cat(credit_score):\n",
    "    if credit_score >= 300 and credit_score < 500:\n",
    "        return \"Very_Poor\"\n",
    "    elif credit_score >= 500 and credit_score < 601:\n",
    "        return \"Poor\"\n",
    "    elif credit_score >= 601 and credit_score < 661:\n",
    "        return \"Fair\"\n",
    "    elif credit_score >= 661 and credit_score < 781:\n",
    "        return \"Good\"\n",
    "    elif credit_score >= 781 and credit_score < 851:\n",
    "        return \"Excellent\"\n",
    "    elif credit_score >= 851:\n",
    "        return \"Top\"\n",
    "    elif credit_score < 300:\n",
    "        return \"Deep\"\n"
   ]
  },
  {
   "cell_type": "code",
   "execution_count": 31,
   "id": "37f73614",
   "metadata": {},
   "outputs": [],
   "source": [
    "churn_data['CreditScoreCat'] = churn_data['CreditScore'].apply(get_credit_score_cat)"
   ]
  },
  {
   "cell_type": "code",
   "execution_count": 32,
   "id": "07ba9808",
   "metadata": {},
   "outputs": [
    {
     "data": {
      "text/html": [
       "<div>\n",
       "<style scoped>\n",
       "    .dataframe tbody tr th:only-of-type {\n",
       "        vertical-align: middle;\n",
       "    }\n",
       "\n",
       "    .dataframe tbody tr th {\n",
       "        vertical-align: top;\n",
       "    }\n",
       "\n",
       "    .dataframe thead th {\n",
       "        text-align: right;\n",
       "    }\n",
       "</style>\n",
       "<table border=\"1\" class=\"dataframe\">\n",
       "  <thead>\n",
       "    <tr style=\"text-align: right;\">\n",
       "      <th></th>\n",
       "      <th>RowNumber</th>\n",
       "      <th>CustomerId</th>\n",
       "      <th>Surname</th>\n",
       "      <th>CreditScore</th>\n",
       "      <th>Geography</th>\n",
       "      <th>Gender</th>\n",
       "      <th>Age</th>\n",
       "      <th>Tenure</th>\n",
       "      <th>Balance</th>\n",
       "      <th>NumOfProducts</th>\n",
       "      <th>HasCrCard</th>\n",
       "      <th>IsActiveMember</th>\n",
       "      <th>EstimatedSalary</th>\n",
       "      <th>Exited</th>\n",
       "      <th>CreditScoreCat</th>\n",
       "    </tr>\n",
       "  </thead>\n",
       "  <tbody>\n",
       "    <tr>\n",
       "      <th>0</th>\n",
       "      <td>1</td>\n",
       "      <td>15634602</td>\n",
       "      <td>Hargrave</td>\n",
       "      <td>619</td>\n",
       "      <td>France</td>\n",
       "      <td>Female</td>\n",
       "      <td>42</td>\n",
       "      <td>2</td>\n",
       "      <td>0.00</td>\n",
       "      <td>1</td>\n",
       "      <td>1</td>\n",
       "      <td>1</td>\n",
       "      <td>101348.88</td>\n",
       "      <td>1</td>\n",
       "      <td>Fair</td>\n",
       "    </tr>\n",
       "    <tr>\n",
       "      <th>1</th>\n",
       "      <td>2</td>\n",
       "      <td>15647311</td>\n",
       "      <td>Hill</td>\n",
       "      <td>608</td>\n",
       "      <td>Spain</td>\n",
       "      <td>Female</td>\n",
       "      <td>41</td>\n",
       "      <td>1</td>\n",
       "      <td>83807.86</td>\n",
       "      <td>1</td>\n",
       "      <td>0</td>\n",
       "      <td>1</td>\n",
       "      <td>112542.58</td>\n",
       "      <td>0</td>\n",
       "      <td>Fair</td>\n",
       "    </tr>\n",
       "    <tr>\n",
       "      <th>2</th>\n",
       "      <td>3</td>\n",
       "      <td>15619304</td>\n",
       "      <td>Onio</td>\n",
       "      <td>502</td>\n",
       "      <td>France</td>\n",
       "      <td>Female</td>\n",
       "      <td>42</td>\n",
       "      <td>8</td>\n",
       "      <td>159660.80</td>\n",
       "      <td>3</td>\n",
       "      <td>1</td>\n",
       "      <td>0</td>\n",
       "      <td>113931.57</td>\n",
       "      <td>1</td>\n",
       "      <td>Poor</td>\n",
       "    </tr>\n",
       "    <tr>\n",
       "      <th>3</th>\n",
       "      <td>4</td>\n",
       "      <td>15701354</td>\n",
       "      <td>Boni</td>\n",
       "      <td>699</td>\n",
       "      <td>France</td>\n",
       "      <td>Female</td>\n",
       "      <td>39</td>\n",
       "      <td>1</td>\n",
       "      <td>0.00</td>\n",
       "      <td>2</td>\n",
       "      <td>0</td>\n",
       "      <td>0</td>\n",
       "      <td>93826.63</td>\n",
       "      <td>0</td>\n",
       "      <td>Good</td>\n",
       "    </tr>\n",
       "    <tr>\n",
       "      <th>4</th>\n",
       "      <td>5</td>\n",
       "      <td>15737888</td>\n",
       "      <td>Mitchell</td>\n",
       "      <td>850</td>\n",
       "      <td>Spain</td>\n",
       "      <td>Female</td>\n",
       "      <td>43</td>\n",
       "      <td>2</td>\n",
       "      <td>125510.82</td>\n",
       "      <td>1</td>\n",
       "      <td>1</td>\n",
       "      <td>1</td>\n",
       "      <td>79084.10</td>\n",
       "      <td>0</td>\n",
       "      <td>Excellent</td>\n",
       "    </tr>\n",
       "  </tbody>\n",
       "</table>\n",
       "</div>"
      ],
      "text/plain": [
       "   RowNumber  CustomerId   Surname  CreditScore Geography  Gender  Age  \\\n",
       "0          1    15634602  Hargrave          619    France  Female   42   \n",
       "1          2    15647311      Hill          608     Spain  Female   41   \n",
       "2          3    15619304      Onio          502    France  Female   42   \n",
       "3          4    15701354      Boni          699    France  Female   39   \n",
       "4          5    15737888  Mitchell          850     Spain  Female   43   \n",
       "\n",
       "   Tenure    Balance  NumOfProducts  HasCrCard  IsActiveMember  \\\n",
       "0       2       0.00              1          1               1   \n",
       "1       1   83807.86              1          0               1   \n",
       "2       8  159660.80              3          1               0   \n",
       "3       1       0.00              2          0               0   \n",
       "4       2  125510.82              1          1               1   \n",
       "\n",
       "   EstimatedSalary  Exited CreditScoreCat  \n",
       "0        101348.88       1           Fair  \n",
       "1        112542.58       0           Fair  \n",
       "2        113931.57       1           Poor  \n",
       "3         93826.63       0           Good  \n",
       "4         79084.10       0      Excellent  "
      ]
     },
     "execution_count": 32,
     "metadata": {},
     "output_type": "execute_result"
    }
   ],
   "source": [
    "churn_data.head()"
   ]
  },
  {
   "cell_type": "code",
   "execution_count": 33,
   "id": "8fbf6c7c",
   "metadata": {},
   "outputs": [
    {
     "data": {
      "text/plain": [
       "Tenure\n",
       "2     1048\n",
       "1     1035\n",
       "7     1028\n",
       "8     1025\n",
       "5     1012\n",
       "3     1009\n",
       "4      989\n",
       "9      984\n",
       "6      967\n",
       "10     490\n",
       "0      413\n",
       "Name: count, dtype: int64"
      ]
     },
     "execution_count": 33,
     "metadata": {},
     "output_type": "execute_result"
    }
   ],
   "source": [
    "churn_data['Tenure'].value_counts()"
   ]
  },
  {
   "cell_type": "code",
   "execution_count": 34,
   "id": "f528914a",
   "metadata": {},
   "outputs": [],
   "source": [
    "pivot_data = churn_data.pivot_table(values='Exited', index='CreditScoreCat', columns='Tenure')"
   ]
  },
  {
   "cell_type": "code",
   "execution_count": 35,
   "id": "c5845b2d",
   "metadata": {},
   "outputs": [
    {
     "data": {
      "text/html": [
       "<div>\n",
       "<style scoped>\n",
       "    .dataframe tbody tr th:only-of-type {\n",
       "        vertical-align: middle;\n",
       "    }\n",
       "\n",
       "    .dataframe tbody tr th {\n",
       "        vertical-align: top;\n",
       "    }\n",
       "\n",
       "    .dataframe thead th {\n",
       "        text-align: right;\n",
       "    }\n",
       "</style>\n",
       "<table border=\"1\" class=\"dataframe\">\n",
       "  <thead>\n",
       "    <tr style=\"text-align: right;\">\n",
       "      <th>Tenure</th>\n",
       "      <th>0</th>\n",
       "      <th>1</th>\n",
       "      <th>2</th>\n",
       "      <th>3</th>\n",
       "      <th>4</th>\n",
       "      <th>5</th>\n",
       "      <th>6</th>\n",
       "      <th>7</th>\n",
       "      <th>8</th>\n",
       "      <th>9</th>\n",
       "      <th>10</th>\n",
       "    </tr>\n",
       "    <tr>\n",
       "      <th>CreditScoreCat</th>\n",
       "      <th></th>\n",
       "      <th></th>\n",
       "      <th></th>\n",
       "      <th></th>\n",
       "      <th></th>\n",
       "      <th></th>\n",
       "      <th></th>\n",
       "      <th></th>\n",
       "      <th></th>\n",
       "      <th></th>\n",
       "      <th></th>\n",
       "    </tr>\n",
       "  </thead>\n",
       "  <tbody>\n",
       "    <tr>\n",
       "      <th>Excellent</th>\n",
       "      <td>0.275000</td>\n",
       "      <td>0.208333</td>\n",
       "      <td>0.137255</td>\n",
       "      <td>0.168317</td>\n",
       "      <td>0.131868</td>\n",
       "      <td>0.233333</td>\n",
       "      <td>0.241379</td>\n",
       "      <td>0.127660</td>\n",
       "      <td>0.196078</td>\n",
       "      <td>0.270833</td>\n",
       "      <td>0.254902</td>\n",
       "    </tr>\n",
       "    <tr>\n",
       "      <th>Fair</th>\n",
       "      <td>0.217391</td>\n",
       "      <td>0.215596</td>\n",
       "      <td>0.213043</td>\n",
       "      <td>0.216450</td>\n",
       "      <td>0.197248</td>\n",
       "      <td>0.206897</td>\n",
       "      <td>0.236364</td>\n",
       "      <td>0.171103</td>\n",
       "      <td>0.209016</td>\n",
       "      <td>0.190045</td>\n",
       "      <td>0.205357</td>\n",
       "    </tr>\n",
       "    <tr>\n",
       "      <th>Good</th>\n",
       "      <td>0.203822</td>\n",
       "      <td>0.203608</td>\n",
       "      <td>0.187342</td>\n",
       "      <td>0.205962</td>\n",
       "      <td>0.195122</td>\n",
       "      <td>0.214470</td>\n",
       "      <td>0.182857</td>\n",
       "      <td>0.191892</td>\n",
       "      <td>0.152355</td>\n",
       "      <td>0.194667</td>\n",
       "      <td>0.197802</td>\n",
       "    </tr>\n",
       "    <tr>\n",
       "      <th>Poor</th>\n",
       "      <td>0.226415</td>\n",
       "      <td>0.259398</td>\n",
       "      <td>0.211765</td>\n",
       "      <td>0.212245</td>\n",
       "      <td>0.233202</td>\n",
       "      <td>0.199153</td>\n",
       "      <td>0.179916</td>\n",
       "      <td>0.151261</td>\n",
       "      <td>0.214575</td>\n",
       "      <td>0.251082</td>\n",
       "      <td>0.169492</td>\n",
       "    </tr>\n",
       "    <tr>\n",
       "      <th>Very_Poor</th>\n",
       "      <td>0.444444</td>\n",
       "      <td>0.253731</td>\n",
       "      <td>0.151515</td>\n",
       "      <td>0.285714</td>\n",
       "      <td>0.293103</td>\n",
       "      <td>0.149254</td>\n",
       "      <td>0.225352</td>\n",
       "      <td>0.206349</td>\n",
       "      <td>0.253521</td>\n",
       "      <td>0.229508</td>\n",
       "      <td>0.333333</td>\n",
       "    </tr>\n",
       "  </tbody>\n",
       "</table>\n",
       "</div>"
      ],
      "text/plain": [
       "Tenure                0         1         2         3         4         5   \\\n",
       "CreditScoreCat                                                               \n",
       "Excellent       0.275000  0.208333  0.137255  0.168317  0.131868  0.233333   \n",
       "Fair            0.217391  0.215596  0.213043  0.216450  0.197248  0.206897   \n",
       "Good            0.203822  0.203608  0.187342  0.205962  0.195122  0.214470   \n",
       "Poor            0.226415  0.259398  0.211765  0.212245  0.233202  0.199153   \n",
       "Very_Poor       0.444444  0.253731  0.151515  0.285714  0.293103  0.149254   \n",
       "\n",
       "Tenure                6         7         8         9         10  \n",
       "CreditScoreCat                                                    \n",
       "Excellent       0.241379  0.127660  0.196078  0.270833  0.254902  \n",
       "Fair            0.236364  0.171103  0.209016  0.190045  0.205357  \n",
       "Good            0.182857  0.191892  0.152355  0.194667  0.197802  \n",
       "Poor            0.179916  0.151261  0.214575  0.251082  0.169492  \n",
       "Very_Poor       0.225352  0.206349  0.253521  0.229508  0.333333  "
      ]
     },
     "execution_count": 35,
     "metadata": {},
     "output_type": "execute_result"
    }
   ],
   "source": [
    "pivot_data"
   ]
  },
  {
   "cell_type": "code",
   "execution_count": 36,
   "id": "a097f1e4",
   "metadata": {},
   "outputs": [
    {
     "data": {
      "image/png": "[encoded data removed]",
      "text/plain": [
       "<Figure size 1000x600 with 2 Axes>"
      ]
     },
     "metadata": {},
     "output_type": "display_data"
    }
   ],
   "source": [
    "fig = plt.figure(figsize=(10, 6))\n",
    "heatmap = sns.heatmap(data=pivot_data, cmap='YlGnBu')\n",
    "heatmap.set_title('Зависимость оттока клиентов от \\n кредитного рейтинга и числа лет сотрудничества', fontsize=16);"
   ]
  },
  {
   "cell_type": "markdown",
   "id": "786f51c6",
   "metadata": {},
   "source": [
    "Из тепловой карты видно, что чаще всего банк покидают клиенты с низким уровнем доходности, которые либо недавно начали пользоваться услугами банка, либо с банком более 10 лет. Аналогичная ситуация с высокодоходными клиентами.\n",
    "Такая ситуация может возникнуть по нескольким причинам:\n",
    "1. Банк имеет низкие ставки по вкладам, высокие ставки интересны как малосостоятельным клиентам (пассивное повышение личного дохода), так и обеспеченным клиентам (инвестирование неиспользуемых средств);\n",
    "    - на это также указывают интервалы \"выхода\" клиентов, средний срок инвестиций 3-5 лет, максимальный 10 лет. Следовательно, по истечению срока инвестирования клиенты изымают свои активы.\n",
    "2. Неправильно работа системы предположения дохода населения и его кредитного рейтинга.\n",
    "    возможно, из-за неверного анализа доходности клиента и некачественного присвоения кредитного рейтинга существует вероятность проведения анализа неверных данных, в результате чего будут неверные выводы;\n",
    "3. Недобросовестная работа подразделения сопровождения клиентов, а именно возможны ситуации, когда подразделение продаж привлекает новых клиентов, но они уходят из-за низкого сервиса обслуживания (большой уход клиентов на нулевом годе обслуживания по всем категориям кредитного рейтинга).\n",
    "4. Возможно недоброжелательное отношение сотрудников к клиентам с низким рейтингом, в результате чего клиенты уходят из банка в течении первого года обслуживания.\n",
    "\n",
    "Сильная сторона банка — это клиенты со \"средним\" и \"выше среднего\" уровнем достатка, такие клиенты меньше всего покидают банк. \n",
    "\\"
   ]
  }
 ],
 "metadata": {
  "kernelspec": {
   "display_name": "Python 3",
   "language": "python",
   "name": "python3"
  },
  "language_info": {
   "codemirror_mode": {
    "name": "ipython",
    "version": 3
   },
   "file_extension": ".py",
   "mimetype": "text/x-python",
   "name": "python",
   "nbconvert_exporter": "python",
   "pygments_lexer": "ipython3",
   "version": "3.9.10"
  }
 },
 "nbformat": 4,
 "nbformat_minor": 5
}
